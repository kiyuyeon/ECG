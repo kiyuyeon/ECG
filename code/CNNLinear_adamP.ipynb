{
 "cells": [
  {
   "cell_type": "code",
   "execution_count": 1,
   "id": "344dca6e-56c7-41c2-8d9a-2cf98eb6dfd5",
   "metadata": {},
   "outputs": [
    {
     "name": "stdout",
     "output_type": "stream",
     "text": [
      "/home/jupyter-melee\n"
     ]
    }
   ],
   "source": [
    "import tarfile\n",
    "import os \n",
    "\n",
    "# Define the path to your tar.gz file\n",
    "os.chdir('/home/jupyter-melee/')\n",
    "print(os.getcwd())\n",
    "\n"
   ]
  },
  {
   "cell_type": "code",
   "execution_count": 2,
   "id": "e341d401-ff98-49a0-92f1-dfc24d1e3e37",
   "metadata": {},
   "outputs": [],
   "source": [
    "import neurokit2 as nk  \n",
    "import matplotlib.pyplot as plt\n",
    "def find_pqr(signal, sr):\n",
    "    try:\n",
    "        signals = signal.reshape(-1,)\n",
    "        signals = nk.ecg_clean(signals, 250, method='neurokit') #디노이징\n",
    "        _, rpeaks = nk.ecg_peaks(signals, sampling_rate = sr)\n",
    "        _, waves_peak = nk.ecg_delineate(signals, rpeaks, sampling_rate = sr, method='peak')\n",
    "\n",
    "        r_peaks = np.array(rpeaks['ECG_R_Peaks'])\n",
    "        r_peaks = r_peaks[~np.isnan(r_peaks)].astype('int')\n",
    "\n",
    "        p_peaks = np.array(waves_peak['ECG_P_Peaks'])\n",
    "        p_peaks = p_peaks[~np.isnan(p_peaks)].astype('int')\n",
    "\n",
    "        q_peaks = np.array(waves_peak['ECG_Q_Peaks'])\n",
    "        q_peaks = q_peaks[~np.isnan(q_peaks)].astype('int')\n",
    "\n",
    "        s_peaks = np.array(waves_peak['ECG_S_Peaks'])\n",
    "        s_peaks = s_peaks[~np.isnan(s_peaks)].astype('int')\n",
    "\n",
    "        t_peaks = np.array(waves_peak['ECG_T_Peaks'])\n",
    "        t_peaks = t_peaks[~np.isnan(t_peaks)].astype('int')\n",
    "\n",
    "        plt.figure(figsize=(20,6))\n",
    "        plt.plot(signals)\n",
    "        plt.plot(p_peaks, signals[p_peaks], \"o\", markersize = 6, label = 'P_peaks')\n",
    "        plt.plot(q_peaks, signals[q_peaks], \"o\", markersize = 6, label = 'Q_peaks')\n",
    "        plt.plot(r_peaks, signals[r_peaks], \"o\", markersize = 6, label = 'R_peaks')\n",
    "        plt.plot(s_peaks, signals[s_peaks], \"o\", markersize = 6, label = 'S_peaks')\n",
    "        plt.plot(t_peaks, signals[t_peaks], \"o\", markersize = 6, label = 'T_peaks')\n",
    "        plt.legend()\n",
    "        plt.show()\n",
    "    except ValueError as e:\n",
    "        print(f\"ValueError: {e}\")\n",
    "        # 오류가 발생한 경우 NaN 배열을 반환하여 시각화 부분에서 건너뜁니다.\n",
    "        return np.full_like(signal, np.nan)\n",
    " \n",
    "        "
   ]
  },
  {
   "cell_type": "code",
   "execution_count": 6,
   "id": "f6b660f3-400d-47ab-8214-72bfa152780d",
   "metadata": {},
   "outputs": [
    {
     "data": {
      "text/html": [
       "Finishing last run (ID:cwtps7gl) before initializing another..."
      ],
      "text/plain": [
       "<IPython.core.display.HTML object>"
      ]
     },
     "metadata": {},
     "output_type": "display_data"
    },
    {
     "data": {
      "text/html": [
       "<style>\n",
       "    table.wandb td:nth-child(1) { padding: 0 10px; text-align: left ; width: auto;} td:nth-child(2) {text-align: left ; width: 100%}\n",
       "    .wandb-row { display: flex; flex-direction: row; flex-wrap: wrap; justify-content: flex-start; width: 100% }\n",
       "    .wandb-col { display: flex; flex-direction: column; flex-basis: 100%; flex: 1; padding: 10px; }\n",
       "    </style>\n",
       "<div class=\"wandb-row\"><div class=\"wandb-col\"><h3>Run history:</h3><br/><table class=\"wandb\"><tr><td>Average MSE</td><td>▁</td></tr><tr><td>Average R-squared</td><td>▁</td></tr><tr><td>Epoch</td><td>▁▁▁▂▂▂▂▂▂▃▃▃▃▃▃▄▄▄▄▄▅▅▅▅▅▅▆▆▆▆▆▇▇▇▇▇▇███</td></tr><tr><td>Training Loss</td><td>▄█▇▄▂▃▃▅▅▄▂▃▃▄▁▂▆▃▂▄▂▄▄▃▃▄▂▂▂▁▅▃▃▁▁▁▂▂▃▃</td></tr><tr><td>Validation Loss</td><td>█▄▃▁▁▁▂▃▃▄▄▄▅▅</td></tr></table><br/></div><div class=\"wandb-col\"><h3>Run summary:</h3><br/><table class=\"wandb\"><tr><td>Average MSE</td><td>0.88673</td></tr><tr><td>Average R-squared</td><td>0.03557</td></tr><tr><td>Epoch</td><td>13</td></tr><tr><td>Training Loss</td><td>0.73849</td></tr><tr><td>Validation Loss</td><td>0.88518</td></tr></table><br/></div></div>"
      ],
      "text/plain": [
       "<IPython.core.display.HTML object>"
      ]
     },
     "metadata": {},
     "output_type": "display_data"
    },
    {
     "data": {
      "text/html": [
       " View run <strong style=\"color:#cdcd00\">usual-wind-5</strong> at: <a href='https://wandb.ai/chwo67/CNNLinear_AdamP/runs/cwtps7gl' target=\"_blank\">https://wandb.ai/chwo67/CNNLinear_AdamP/runs/cwtps7gl</a><br/>Synced 5 W&B file(s), 0 media file(s), 0 artifact file(s) and 0 other file(s)"
      ],
      "text/plain": [
       "<IPython.core.display.HTML object>"
      ]
     },
     "metadata": {},
     "output_type": "display_data"
    },
    {
     "data": {
      "text/html": [
       "Find logs at: <code>./wandb/run-20231123_174600-cwtps7gl/logs</code>"
      ],
      "text/plain": [
       "<IPython.core.display.HTML object>"
      ]
     },
     "metadata": {},
     "output_type": "display_data"
    },
    {
     "data": {
      "text/html": [
       "Successfully finished last run (ID:cwtps7gl). Initializing new run:<br/>"
      ],
      "text/plain": [
       "<IPython.core.display.HTML object>"
      ]
     },
     "metadata": {},
     "output_type": "display_data"
    },
    {
     "data": {
      "text/html": [
       "Tracking run with wandb version 0.16.0"
      ],
      "text/plain": [
       "<IPython.core.display.HTML object>"
      ]
     },
     "metadata": {},
     "output_type": "display_data"
    },
    {
     "data": {
      "text/html": [
       "Run data is saved locally in <code>/home/jupyter-melee/wandb/run-20231123_175835-7i2r8yby</code>"
      ],
      "text/plain": [
       "<IPython.core.display.HTML object>"
      ]
     },
     "metadata": {},
     "output_type": "display_data"
    },
    {
     "data": {
      "text/html": [
       "Syncing run <strong><a href='https://wandb.ai/chwo67/CNNLinear_AdamP/runs/7i2r8yby' target=\"_blank\">northern-plasma-6</a></strong> to <a href='https://wandb.ai/chwo67/CNNLinear_AdamP' target=\"_blank\">Weights & Biases</a> (<a href='https://wandb.me/run' target=\"_blank\">docs</a>)<br/>"
      ],
      "text/plain": [
       "<IPython.core.display.HTML object>"
      ]
     },
     "metadata": {},
     "output_type": "display_data"
    },
    {
     "data": {
      "text/html": [
       " View project at <a href='https://wandb.ai/chwo67/CNNLinear_AdamP' target=\"_blank\">https://wandb.ai/chwo67/CNNLinear_AdamP</a>"
      ],
      "text/plain": [
       "<IPython.core.display.HTML object>"
      ]
     },
     "metadata": {},
     "output_type": "display_data"
    },
    {
     "data": {
      "text/html": [
       " View run at <a href='https://wandb.ai/chwo67/CNNLinear_AdamP/runs/7i2r8yby' target=\"_blank\">https://wandb.ai/chwo67/CNNLinear_AdamP/runs/7i2r8yby</a>"
      ],
      "text/plain": [
       "<IPython.core.display.HTML object>"
      ]
     },
     "metadata": {},
     "output_type": "display_data"
    },
    {
     "name": "stdout",
     "output_type": "stream",
     "text": [
      "Epoch [1/10000], Training Loss: 0.8398702144622803\n",
      "Epoch [1/10000], Validation Loss: 0.8726291401045663\n",
      "Epoch [2/10000], Training Loss: 1.3054330348968506\n",
      "Epoch [2/10000], Validation Loss: 0.8526319095066616\n",
      "Epoch [3/10000], Training Loss: 1.0982154607772827\n",
      "Epoch [3/10000], Validation Loss: 0.8496351497513908\n",
      "Epoch [4/10000], Training Loss: 0.8234092593193054\n",
      "Epoch [4/10000], Validation Loss: 0.842013989176069\n",
      "Epoch [5/10000], Training Loss: 0.8474458456039429\n",
      "Epoch [5/10000], Validation Loss: 0.8428787759372166\n",
      "Epoch [6/10000], Training Loss: 1.010391354560852\n",
      "Epoch [6/10000], Validation Loss: 0.8391527874129159\n",
      "Epoch [7/10000], Training Loss: 0.9565622210502625\n",
      "Epoch [7/10000], Validation Loss: 0.8370109711374555\n",
      "Epoch [8/10000], Training Loss: 0.9290397763252258\n",
      "Epoch [8/10000], Validation Loss: 0.8365217617579869\n",
      "Epoch [9/10000], Training Loss: 0.7787505388259888\n",
      "Epoch [9/10000], Validation Loss: 0.8441735506057739\n",
      "Epoch [10/10000], Training Loss: 0.8946205973625183\n",
      "Epoch [10/10000], Validation Loss: 0.8412706766809736\n",
      "Epoch [11/10000], Training Loss: 0.8492742776870728\n",
      "Epoch [11/10000], Validation Loss: 0.8425026025090899\n",
      "Epoch [12/10000], Training Loss: 0.7071630954742432\n",
      "Epoch [12/10000], Validation Loss: 0.8460990701402936\n",
      "Epoch [13/10000], Training Loss: 0.8667680025100708\n",
      "Epoch [13/10000], Validation Loss: 0.8546985898699079\n",
      "Epoch [14/10000], Training Loss: 0.8371762037277222\n",
      "Epoch [14/10000], Validation Loss: 0.8550490992409843\n",
      "Epoch [15/10000], Training Loss: 0.6640943288803101\n",
      "Epoch [15/10000], Validation Loss: 0.8587173053196498\n",
      "Epoch [16/10000], Training Loss: 0.9012819528579712\n",
      "Epoch [16/10000], Validation Loss: 0.8535661016191755\n",
      "Epoch [17/10000], Training Loss: 0.7905486226081848\n",
      "Epoch [17/10000], Validation Loss: 0.8576346976416451\n",
      "Epoch [18/10000], Training Loss: 0.6632490158081055\n",
      "Epoch [18/10000], Validation Loss: 0.8574672000748771\n",
      "EarlyStopping counter: 10 out of 10\n",
      "Early stopping\n",
      "Model output shape: torch.Size([160, 55000])\n"
     ]
    },
    {
     "ename": "IndexError",
     "evalue": "too many indices for array: array is 2-dimensional, but 3 were indexed",
     "output_type": "error",
     "traceback": [
      "\u001b[0;31m---------------------------------------------------------------------------\u001b[0m",
      "\u001b[0;31mIndexError\u001b[0m                                Traceback (most recent call last)",
      "Cell \u001b[0;32mIn[6], line 316\u001b[0m\n\u001b[1;32m    314\u001b[0m     predicted \u001b[38;5;241m=\u001b[39m predicted_output\u001b[38;5;241m.\u001b[39mview(\u001b[38;5;241m-\u001b[39m\u001b[38;5;241m1\u001b[39m, \u001b[38;5;241m11\u001b[39m, \u001b[38;5;241m5000\u001b[39m)\u001b[38;5;241m.\u001b[39mcpu()  \u001b[38;5;66;03m# Move predicted output to CPU\u001b[39;00m\n\u001b[1;32m    315\u001b[0m     sample_data_cpu \u001b[38;5;241m=\u001b[39m sample_data\u001b[38;5;241m.\u001b[39mcpu()  \u001b[38;5;66;03m# Move sample data to CPU\u001b[39;00m\n\u001b[0;32m--> 316\u001b[0m     \u001b[43mplot_ecgs\u001b[49m\u001b[43m(\u001b[49m\u001b[43msample_data_cpu\u001b[49m\u001b[38;5;241;43m.\u001b[39;49m\u001b[43mnumpy\u001b[49m\u001b[43m(\u001b[49m\u001b[43m)\u001b[49m\u001b[43m,\u001b[49m\u001b[43m \u001b[49m\u001b[43mpredicted\u001b[49m\u001b[38;5;241;43m.\u001b[39;49m\u001b[43mnumpy\u001b[49m\u001b[43m(\u001b[49m\u001b[43m)\u001b[49m\u001b[43m,\u001b[49m\u001b[43m \u001b[49m\u001b[38;5;241;43m0\u001b[39;49m\u001b[43m)\u001b[49m  \u001b[38;5;66;03m# 첫 번째 샘플에 대한 시각화\u001b[39;00m\n\u001b[1;32m    317\u001b[0m \u001b[38;5;28;01melse\u001b[39;00m:\n\u001b[1;32m    318\u001b[0m     \u001b[38;5;28mprint\u001b[39m(\u001b[38;5;124m\"\u001b[39m\u001b[38;5;124mInvalid model output size\u001b[39m\u001b[38;5;124m\"\u001b[39m)\n",
      "Cell \u001b[0;32mIn[6], line 75\u001b[0m, in \u001b[0;36mplot_ecgs\u001b[0;34m(original, predicted, sample_index)\u001b[0m\n\u001b[1;32m     73\u001b[0m fig, axes \u001b[38;5;241m=\u001b[39m plt\u001b[38;5;241m.\u001b[39msubplots(\u001b[38;5;241m12\u001b[39m, \u001b[38;5;241m2\u001b[39m, figsize\u001b[38;5;241m=\u001b[39m(\u001b[38;5;241m15\u001b[39m, \u001b[38;5;241m20\u001b[39m))\n\u001b[1;32m     74\u001b[0m \u001b[38;5;28;01mfor\u001b[39;00m i \u001b[38;5;129;01min\u001b[39;00m \u001b[38;5;28mrange\u001b[39m(\u001b[38;5;241m12\u001b[39m):\n\u001b[0;32m---> 75\u001b[0m     axes[i, \u001b[38;5;241m0\u001b[39m]\u001b[38;5;241m.\u001b[39mplot(\u001b[43moriginal\u001b[49m\u001b[43m[\u001b[49m\u001b[43msample_index\u001b[49m\u001b[43m,\u001b[49m\u001b[43m \u001b[49m\u001b[43mi\u001b[49m\u001b[43m,\u001b[49m\u001b[43m \u001b[49m\u001b[43m:\u001b[49m\u001b[43m]\u001b[49m)\n\u001b[1;32m     76\u001b[0m     \u001b[38;5;28;01mif\u001b[39;00m i \u001b[38;5;241m!=\u001b[39m \u001b[38;5;241m1\u001b[39m:  \u001b[38;5;66;03m# 2번째 리드(Lead II)는 입력 데이터이므로 제외\u001b[39;00m\n\u001b[1;32m     77\u001b[0m         axes[i, \u001b[38;5;241m1\u001b[39m]\u001b[38;5;241m.\u001b[39mplot(predicted[sample_index, i \u001b[38;5;241m-\u001b[39m \u001b[38;5;241m1\u001b[39m \u001b[38;5;28;01mif\u001b[39;00m i \u001b[38;5;241m>\u001b[39m \u001b[38;5;241m1\u001b[39m \u001b[38;5;28;01melse\u001b[39;00m i, :])\n",
      "\u001b[0;31mIndexError\u001b[0m: too many indices for array: array is 2-dimensional, but 3 were indexed"
     ]
    },
    {
     "data": {
      "image/png": "[encoded data removed]",
      "text/plain": [
       "<Figure size 1500x2000 with 24 Axes>"
      ]
     },
     "metadata": {},
     "output_type": "display_data"
    }
   ],
   "source": [
    "# CNN+linear\n",
    "# 2-> 전체\n",
    "# AdamP\n",
    "\n",
    "import numpy as np\n",
    "import torch\n",
    "import torch.nn as nn\n",
    "import torch.optim as optim\n",
    "from torch.utils.data import DataLoader, TensorDataset, random_split\n",
    "from sklearn.preprocessing import StandardScaler\n",
    "from sklearn.metrics import mean_squared_error, r2_score\n",
    "from scipy.signal import butter, lfilter\n",
    "from adamp import AdamP\n",
    "import os\n",
    "import torch.nn.functional as F\n",
    "import wandb\n",
    "\n",
    "wandb.init(project=\"CNNLinear_AdamP\")\n",
    "\n",
    "\n",
    "# 데이터 로드 및 전처리 함수\n",
    "def load_npy_data(folder_path):\n",
    "    X_list = []\n",
    "\n",
    "    for file_name in os.listdir(folder_path):\n",
    "        if file_name.startswith('wave') and file_name.endswith('.npy'):\n",
    "            data = np.load(os.path.join(folder_path, file_name))\n",
    "\n",
    "            if data.shape[0] == 13:\n",
    "                data = data[:12, :]  # 13번째 행 제거\n",
    "                \n",
    "                # 디노이징을 위해 각 리드별로 nk.ecg_clean 적용\n",
    "                cleaned_data = []\n",
    "                for i in range(data.shape[0]):  # 각 리드에 대해 반복\n",
    "                    cleaned = nk.ecg_clean(data[i, :], 250, method='neurokit')\n",
    "                    cleaned_data.append(cleaned)\n",
    "                cleaned_data = np.array(cleaned_data)\n",
    "                X_list.append(cleaned_data)\n",
    "            else:\n",
    "                print(f\"파일 {file_name}의 형식이 올바르지 않습니다: data shape {data.shape}\")\n",
    "\n",
    "    X = np.array(X_list)\n",
    "    return X\n",
    "\n",
    "# 이상치 제거 함수 수정\n",
    "def remove_outliers(data):\n",
    "    for i in range(data.shape[1]):\n",
    "        q1 = np.percentile(data[:, i, :], 25, axis=1)\n",
    "        q3 = np.percentile(data[:, i, :], 75, axis=1)\n",
    "        iqr = q3 - q1\n",
    "        lower_bound = q1 - (1.5 * iqr)\n",
    "        upper_bound = q3 + (1.5 * iqr)\n",
    "        for j in range(data.shape[0]):\n",
    "            data[j, i, :][data[j, i, :] < lower_bound[j]] = np.nanmedian(data[j, i, :])\n",
    "            data[j, i, :][data[j, i, :] > upper_bound[j]] = np.nanmedian(data[j, i, :])\n",
    "    return data\n",
    "\n",
    "# 스무딩 함수\n",
    "def apply_moving_average(data, window_size=5):\n",
    "    for i in range(data.shape[1]):\n",
    "        for j in range(data.shape[0]):\n",
    "            data[j, i, :] = np.convolve(data[j, i, :], np.ones(window_size)/window_size, mode='same')\n",
    "    return data\n",
    "\n",
    "# 가중치 초기화 함수\n",
    "def initialize_weights(m):\n",
    "    if isinstance(m, nn.Linear):\n",
    "        nn.init.kaiming_normal_(m.weight)\n",
    "        nn.init.zeros_(m.bias)\n",
    "\n",
    "# 시각화 함수\n",
    "def plot_ecgs(original, predicted, sample_index):\n",
    "    fig, axes = plt.subplots(12, 2, figsize=(15, 20))\n",
    "    for i in range(12):\n",
    "        axes[i, 0].plot(original[sample_index, i, :])\n",
    "        if i != 1:  # 2번째 리드(Lead II)는 입력 데이터이므로 제외\n",
    "            axes[i, 1].plot(predicted[sample_index, i - 1 if i > 1 else i, :])\n",
    "        else:\n",
    "            axes[i, 1].plot(original[sample_index, i, :])  # 입력 리드(Lead II)의 원본 데이터\n",
    "        axes[i, 0].set_title(f'Original Lead {i+1}')\n",
    "        axes[i, 1].set_title(f'Predicted Lead {i+1}')\n",
    "    plt.tight_layout()\n",
    "    plt.show()\n",
    "\n",
    "\n",
    "def calculate_scores(original, predicted):\n",
    "    mse_scores = []\n",
    "    r2_scores = []\n",
    "\n",
    "    # 각 리드에 대한 MSE 및 R-squared 점수 계산\n",
    "    for i in range(12):\n",
    "        if i != 1:  # 2번째 리드(Lead II)는 입력 데이터이므로 제외\n",
    "            original_lead = original[:, i, :]\n",
    "            predicted_lead = predicted[:, i - 1 if i > 1 else i, :]\n",
    "            mse = mean_squared_error(original_lead, predicted_lead)\n",
    "            r2 = r2_score(original_lead, predicted_lead)\n",
    "            mse_scores.append(mse)\n",
    "            r2_scores.append(r2)\n",
    "    \n",
    "    return mse_scores, r2_scores        \n",
    "        \n",
    "# Early Stopping 클래스 정의\n",
    "class EarlyStopping:\n",
    "    def __init__(self, patience=10, verbose=False):\n",
    "        self.patience = patience\n",
    "        self.verbose = verbose\n",
    "        self.counter = 0\n",
    "        self.best_loss = None\n",
    "        self.early_stop = False\n",
    "\n",
    "    def __call__(self, val_loss):\n",
    "        if self.best_loss is None:\n",
    "            self.best_loss = val_loss\n",
    "        elif val_loss > self.best_loss:\n",
    "            self.counter += 1\n",
    "            if self.counter >= self.patience:\n",
    "                self.early_stop = True\n",
    "                if self.verbose:\n",
    "                    print(f\"EarlyStopping counter: {self.counter} out of {self.patience}\")\n",
    "        else:\n",
    "            self.best_loss = val_loss\n",
    "            self.counter = 0 # Early Stopping\n",
    "\n",
    "# 데이터 로드 및 전처리\n",
    "folder_path = \"diffusion/data_No20000/data_0\"\n",
    "X = load_npy_data(folder_path)\n",
    "\n",
    "# 이상치 제거\n",
    "X = remove_outliers(X)\n",
    "\n",
    "# 스무딩\n",
    "X_smoothed = apply_moving_average(X)\n",
    "\n",
    "# 데이터 정규화\n",
    "scaler = StandardScaler()\n",
    "X_scaled = scaler.fit_transform(X_smoothed.reshape(-1, 5000)).reshape(-1, 12, 5000)\n",
    "\n",
    "# 텐서 변환\n",
    "X_tensor = torch.tensor(X_scaled, dtype=torch.float32)\n",
    "\n",
    "# 데이터셋 분할 및 DataLoader 설정\n",
    "dataset_size = len(X_tensor)\n",
    "test_size = int(0.2 * dataset_size)\n",
    "train_size = dataset_size - test_size\n",
    "train_dataset, test_dataset = random_split(TensorDataset(X_tensor), [train_size, test_size])\n",
    "\n",
    "# 검증 세트 분할\n",
    "val_size = int(0.1 * train_size)\n",
    "train_size = train_size - val_size\n",
    "train_dataset, val_dataset = random_split(train_dataset, [train_size, val_size])\n",
    "\n",
    "# DataLoader 설정\n",
    "train_loader = DataLoader(train_dataset, batch_size=256, shuffle=True)\n",
    "val_loader = DataLoader(val_dataset, batch_size=256)\n",
    "test_loader = DataLoader(test_dataset, batch_size=256)\n",
    "\n",
    "class CNNComplexRegressionModel(nn.Module):\n",
    "    def __init__(self, input_size, output_size):\n",
    "        super(CNNComplexRegressionModel, self).__init__()\n",
    "        # CNN 레이어 추가\n",
    "        self.conv1 = nn.Conv1d(1, 32, kernel_size=5, stride=1, padding=2)\n",
    "        self.conv2 = nn.Conv1d(32, 64, kernel_size=5, stride=1, padding=2)\n",
    "        self.conv3 = nn.Conv1d(64, 128, kernel_size=5, stride=1, padding=2)  # 추가된 레이어\n",
    "        self.pool = nn.MaxPool1d(2, 2)\n",
    "\n",
    "        # 완전 연결 레이어\n",
    "        # 풀링으로 인한 크기 조정: (input_size / 8) * 128\n",
    "        self.fc1 = nn.Linear(625 * 128, 1024)\n",
    "        self.fc2 = nn.Linear(1024, 512)\n",
    "        self.fc3 = nn.Linear(512, 256)\n",
    "        self.fc4 = nn.Linear(256, 128)\n",
    "        self.fc5 = nn.Linear(128, 64)\n",
    "        self.fc6 = nn.Linear(64, output_size)\n",
    "        self.dropout = nn.Dropout(0.2)\n",
    "\n",
    "    def forward(self, x):\n",
    "        # CNN 레이어를 통과\n",
    "        x = x.unsqueeze(1)  # 차원 추가 [Batch, Channel, Length]\n",
    "        x = F.relu(self.conv1(x))\n",
    "        x = self.pool(x)\n",
    "        x = F.relu(self.conv2(x))\n",
    "        x = self.pool(x)\n",
    "        x = F.relu(self.conv3(x))  # 추가된 레이어\n",
    "        x = self.pool(x)\n",
    "\n",
    "        # 완전 연결 레이어를 통과\n",
    "        x = x.view(x.size(0), -1)  # 평탄화\n",
    "        x = F.relu(self.fc1(x))\n",
    "        x = F.relu(self.fc2(x))\n",
    "        x = self.dropout(x)\n",
    "        x = F.relu(self.fc3(x))\n",
    "        x = F.relu(self.fc4(x))\n",
    "        x = self.dropout(x)\n",
    "        x = F.relu(self.fc5(x))\n",
    "        return self.fc6(x)\n",
    "\n",
    "    \n",
    "\n",
    "\n",
    "# 모델 초기화\n",
    "deep_lin_reg_model = CNNComplexRegressionModel(input_size=5000, output_size=55000)\n",
    "deep_lin_reg_model.apply(initialize_weights)\n",
    "    \n",
    "# CUDA 디바이스 설정\n",
    "device = torch.device(\"cuda:1\" if torch.cuda.is_available() else \"cpu\")\n",
    "deep_lin_reg_model.to(device)\n",
    "    \n",
    "# 옵티마이저\n",
    "params = deep_lin_reg_model.parameters()\n",
    "deep_lin_reg_optimizer = AdamP(params, lr=0.001, betas=(0.9, 0.999), weight_decay=1e-2)\n",
    "\n",
    "# EarlyStopping 인스턴스 생성\n",
    "early_stopping = EarlyStopping(patience=10, verbose=True)\n",
    "\n",
    "# Epochs 수 조정 \n",
    "num_epochs = 10000\n",
    "\n",
    "\n",
    "# 훈련 루프 \n",
    "for epoch in range(num_epochs):\n",
    "    # 훈련 부분\n",
    "    deep_lin_reg_model.train()\n",
    "    for data in train_loader:\n",
    "        data = data[0].to(device)\n",
    "        lead_II = data[:, 1, :].view(-1, 5000)\n",
    "        remaining_leads = data[:, [i for i in range(12) if i != 1], :].reshape(-1, 55000)\n",
    "\n",
    "        deep_lin_reg_optimizer.zero_grad()\n",
    "        predictions = deep_lin_reg_model(lead_II)\n",
    "        loss = nn.MSELoss()(predictions, remaining_leads)\n",
    "        if torch.isnan(loss):\n",
    "            print(f\"Warning: NaN loss detected at epoch {epoch+1}\")\n",
    "            continue\n",
    "        loss.backward()\n",
    "        torch.nn.utils.clip_grad_norm_(deep_lin_reg_model.parameters(), max_norm=1.0)\n",
    "        deep_lin_reg_optimizer.step()\n",
    "        wandb.log({\"Epoch\": epoch, \"Training Loss\": loss.item()})\n",
    "        \n",
    "    print(f'Epoch [{epoch+1}/{num_epochs}], Training Loss: {loss.item()}')\n",
    "    \n",
    "    # 10 epoch마다 평균 MSE와 R-squared 점수를 계산하고 wandb에 로깅\n",
    "    if (epoch + 1) % 10 == 0:\n",
    "        # 테스트 데이터셋에 대한 예측 및 점수 계산\n",
    "        mse_scores, r2_scores = [], []\n",
    "        deep_lin_reg_model.eval()\n",
    "        with torch.no_grad():\n",
    "            for data in test_loader:\n",
    "                data = data[0].to(device)\n",
    "                lead_II = data[:, 1, :].view(-1, 5000)\n",
    "                remaining_leads = data[:, [i for i in range(12) if i != 1], :].reshape(-1, 55000)\n",
    "                \n",
    "                predictions = deep_lin_reg_model(lead_II)\n",
    "                mse = mean_squared_error(remaining_leads.cpu().numpy(), predictions.cpu().numpy())\n",
    "                r2 = r2_score(remaining_leads.cpu().numpy(), predictions.cpu().numpy())\n",
    "                \n",
    "                mse_scores.append(mse)\n",
    "                r2_scores.append(r2)\n",
    "\n",
    "        # 평균 점수 계산\n",
    "        average_mse = np.mean(mse_scores)\n",
    "        average_r2 = np.mean(r2_scores)\n",
    "\n",
    "        # wandb에 로깅\n",
    "        wandb.log({\"Epoch\": epoch, \"Average MSE\": average_mse, \"Average R-squared\": average_r2})\n",
    "\n",
    "    \n",
    "    # 검증 부분\n",
    "    deep_lin_reg_model.eval()\n",
    "    val_loss = 0\n",
    "    with torch.no_grad():\n",
    "        for data in val_loader:\n",
    "            data = data[0].to(device)\n",
    "            lead_II = data[:, 1, :].view(-1, 5000)\n",
    "            remaining_leads = data[:, [i for i in range(12) if i != 1], :].reshape(-1, 55000)\n",
    "            predictions = deep_lin_reg_model(lead_II)\n",
    "            val_loss += nn.MSELoss()(predictions, remaining_leads).item()\n",
    "    \n",
    "    val_loss /= len(val_loader)\n",
    "    wandb.log({\"Epoch\": epoch, \"Validation Loss\": val_loss})\n",
    "    print(f'Epoch [{epoch+1}/{num_epochs}], Validation Loss: {val_loss}')\n",
    "\n",
    "    # Early Stopping 체크\n",
    "    early_stopping(val_loss)\n",
    "    if early_stopping.early_stop:\n",
    "        print(\"Early stopping\")\n",
    "        break\n",
    "\n",
    "mse_scores = []\n",
    "r2_scores = []\n",
    "        \n",
    "\n",
    "# 테스트 데이터셋에 대한 예측\n",
    "deep_lin_reg_model.eval()\n",
    "with torch.no_grad():\n",
    "    for data in test_loader:\n",
    "        data = data[0].to(device)\n",
    "        sample_data = data[0]\n",
    "        lead_II = data[:, 1, :].view(-1, 5000)\n",
    "        remaining_leads = data[:, [i for i in range(12) if i != 1], :].reshape(-1, 55000)\n",
    "        \n",
    "        predicted_output = deep_lin_reg_model(lead_II)\n",
    "        # Calculate MSE and R-squared for each batch and store them\n",
    "        mse = mean_squared_error(remaining_leads.cpu().numpy(), predicted_output.cpu().numpy())\n",
    "        r2 = r2_score(remaining_leads.cpu().numpy(), predicted_output.cpu().numpy())\n",
    "\n",
    "        mse_scores.append(mse)\n",
    "        r2_scores.append(r2)\n",
    "        \n",
    "    print(\"Model output shape:\", predicted_output.shape)        \n",
    "\n",
    "    \n",
    "    # 모델 출력 크기 확인 및 조정\n",
    "    if predicted_output.shape[1] == 55000:  # 출력 크기가 55000일 때만 재구성\n",
    "        predicted = predicted_output.view(-1, 11, 5000).cpu()  # Move predicted output to CPU\n",
    "        sample_data_cpu = sample_data.cpu()  # Move sample data to CPU\n",
    "        plot_ecgs(sample_data_cpu.numpy(), predicted.numpy(), 0)  # 첫 번째 샘플에 대한 시각화\n",
    "    else:\n",
    "        print(\"Invalid model output size\")\n",
    "\n",
    "# Compute the average of the scores\n",
    "average_mse = np.mean(mse_scores)\n",
    "average_r2 = np.mean(r2_scores)\n",
    "            \n",
    "    \n",
    "wandb.log({\"Average MSE\": average_mse})\n",
    "wandb.log({\"Average R-squared\": average_r2})\n",
    "    \n",
    "# 평균 MSE 및 R-squared 점수 출력\n",
    "print(f'Average MSE: {average_mse}')\n",
    "print(f'Average R-squared: {average_r2}')\n",
    "\n"
   ]
  },
  {
   "cell_type": "code",
   "execution_count": 5,
   "id": "292ba7fe-1889-407e-977b-6883f5afe2bf",
   "metadata": {},
   "outputs": [],
   "source": []
  }
 ],
 "metadata": {
  "kernelspec": {
   "display_name": "melee",
   "language": "python",
   "name": "melee"
  },
  "language_info": {
   "codemirror_mode": {
    "name": "ipython",
    "version": 3
   },
   "file_extension": ".py",
   "mimetype": "text/x-python",
   "name": "python",
   "nbconvert_exporter": "python",
   "pygments_lexer": "ipython3",
   "version": "3.8.18"
  }
 },
 "nbformat": 4,
 "nbformat_minor": 5
}
