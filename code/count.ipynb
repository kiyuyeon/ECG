{
 "cells": [
  {
   "cell_type": "code",
   "execution_count": 5,
   "id": "9e9a239d-0b32-44c3-b4da-e3f5d9c8678b",
   "metadata": {},
   "outputs": [
    {
     "name": "stdout",
     "output_type": "stream",
     "text": [
      "202107_202112 : 2314\n",
      "202201_202206 : 3015\n",
      "202207_202212 : 1815\n",
      "202301_202307 : 55\n",
      "all : 7199\n"
     ]
    }
   ],
   "source": [
    "import os\n",
    "\n",
    "def count_csv_files(directory):\n",
    "    csv_count = 0\n",
    "    for file in os.listdir(directory):\n",
    "        if file.endswith('.csv'):\n",
    "            csv_count += 1\n",
    "    return csv_count\n",
    "\n",
    "directory_path = '/data/hw/mobile_ecg_rawdata/Jenonnam_Result_ECG2CSV_mobi_care/202107_202112'\n",
    "csv_count1 = count_csv_files(directory_path)\n",
    "print(f\"202107_202112 : {csv_count1}\")\n",
    "directory_path = '/data/hw/mobile_ecg_rawdata/Jenonnam_Result_ECG2CSV_mobi_care/202201_202206'\n",
    "csv_count2 = count_csv_files(directory_path)\n",
    "print(f\"202201_202206 : {csv_count2}\")\n",
    "directory_path = '/data/hw/mobile_ecg_rawdata/Jenonnam_Result_ECG2CSV_mobi_care/202207_202212'\n",
    "csv_count3 = count_csv_files(directory_path)\n",
    "print(f\"202207_202212 : {csv_count3}\")\n",
    "directory_path = '/data/hw/mobile_ecg_rawdata/Jenonnam_Result_ECG2CSV_mobi_care/202301_202307'\n",
    "csv_count4 = count_csv_files(directory_path)\n",
    "print(f\"202301_202307 : {csv_count4}\")\n",
    "\n",
    "all_count = csv_count1+csv_count2+csv_count3+csv_count4\n",
    "\n",
    "print(f\"all : {all_count}\")"
   ]
  },
  {
   "cell_type": "code",
   "execution_count": 57,
   "id": "af8f4bb8-39b3-4fde-b2e3-59440a826793",
   "metadata": {},
   "outputs": [
    {
     "name": "stdout",
     "output_type": "stream",
     "text": [
      "매칭된 파일 수 122\n"
     ]
    }
   ],
   "source": [
    "import os\n",
    "label_csv = pd.read_csv('/home/ubuntu/hw/심계항진_날짜포함.csv')\n",
    "data_npy='/data/hw/mobile_ecg'\n",
    "\n",
    "npy_file=[f for f in os.listdir(data_npy) if f.endswith('.csv')]\n",
    "\n",
    "match_count = 0\n",
    "\n",
    "for pid in label_csv['PID']:\n",
    "    if f'{pid}.csv' in npy_file:\n",
    "        match_count +=1\n",
    "print(f'매칭된 파일 수 {match_count}')"
   ]
  },
  {
   "cell_type": "code",
   "execution_count": 27,
   "id": "20576859-e9b2-4746-8ca5-47bd3dc8b0c3",
   "metadata": {},
   "outputs": [
    {
     "name": "stdout",
     "output_type": "stream",
     "text": [
      "매칭된 파일 수 123\n",
      "[6975638, 2189606, 9418356, 7053955, 9646394, 6718811, 4339432, 17254218, 9648878, 6335784, 72039255, 9711916, 6512306, 6088644, 8504469, 7736941, 6700739, 4445553, 4200681, 9996819, 5738433, 9545516, 5733517, 8957663, 7294067, 7373212, 4666994, 6232766, 6351089, 4267258, 4426709, 8380923, 5878321, 3832016, 6150844, 4567421, 8429167]\n"
     ]
    }
   ],
   "source": [
    "label_csv = pd.read_csv('/home/ubuntu/hw/심계항진_날짜포함.csv')\n",
    "data_npy='/data/0ho/mobicare_pal_holter/destination_for_1'\n",
    "\n",
    "npy_file=[f for f in os.listdir(data_npy) if f.endswith('.csv')]\n",
    "\n",
    "match_count= 0\n",
    "\n",
    "unmatch_count=[]\n",
    "\n",
    "for pid in label_csv['PID']:\n",
    "    if f'{pid}.csv' in npy_file:\n",
    "        match_count +=1\n",
    "    else:\n",
    "        unmatch_count.append(pid)\n",
    "\n",
    "print(f'매칭된 파일 수 {match_count}')\n",
    "\n",
    "print(unmatch_count)"
   ]
  },
  {
   "cell_type": "code",
   "execution_count": 29,
   "id": "3b695abe-83ae-403c-9a2e-51d150f96176",
   "metadata": {},
   "outputs": [
    {
     "name": "stdout",
     "output_type": "stream",
     "text": [
      "매칭된 파일 수: 155\n",
      "매칭되지 않은 PID 목록:\n",
      "17254218\n",
      "72039255\n",
      "08504469\n",
      "09996819\n",
      "06232766\n"
     ]
    }
   ],
   "source": [
    "import os\n",
    "import pandas as pd\n",
    "\n",
    "# Load the CSV file containing the labels and PIDs\n",
    "label_csv = pd.read_csv('/home/ubuntu/hw/심계항진_날짜포함.csv')\n",
    "\n",
    "# Directory where the data files are stored\n",
    "data_npy = '/data/0ho/mobicare_pal_holter/destination_for_1'\n",
    "\n",
    "# List all .csv files in the specified directory\n",
    "npy_files = [f for f in os.listdir(data_npy) if f.endswith('.csv')]\n",
    "\n",
    "# Adjust file names to be 8 digits if they are not\n",
    "formatted_files = []\n",
    "for file in npy_files:\n",
    "    base_name = file[:-4]  # Remove the '.csv' extension\n",
    "    if len(base_name) == 7:  # Check if the file name is 7 digits long\n",
    "        base_name = f'0{base_name}'  # Prepend '0' to make it 8 digits\n",
    "    formatted_files.append(f'{base_name}.csv')\n",
    "\n",
    "# Initialize the count for matched files\n",
    "match_count = 0\n",
    "\n",
    "# List to store PIDs that do not match\n",
    "unmatched_pids = []\n",
    "\n",
    "# Check each PID in the label CSV\n",
    "for pid in label_csv['PID']:\n",
    "    formatted_pid = f'{pid:08}'  # Ensure PID is 8 digits long\n",
    "    if f'{formatted_pid}.csv' in formatted_files:\n",
    "        match_count += 1\n",
    "    else:\n",
    "        # If no match, add to the list of unmatched PIDs\n",
    "        unmatched_pids.append(formatted_pid)\n",
    "\n",
    "# Print the number of matched files\n",
    "print(f'매칭된 파일 수: {match_count}')\n",
    "\n",
    "# Print PIDs that did not match\n",
    "print(\"매칭되지 않은 PID 목록:\")\n",
    "for pid in unmatched_pids:\n",
    "    print(pid)\n"
   ]
  },
  {
   "cell_type": "code",
   "execution_count": null,
   "id": "3fa82762-7055-4401-b71b-7d5e0050f05e",
   "metadata": {},
   "outputs": [],
   "source": [
    "17254218 [분실 ] 3\n",
    "72039255 [분실] 3\n",
    "09996819 [분실] 2\n",
    "06232766[분실] 2\n",
    "08504469 중도탈락"
   ]
  },
  {
   "cell_type": "code",
   "execution_count": 39,
   "id": "5485e55b-9987-479d-977d-9d55dfb7a12f",
   "metadata": {},
   "outputs": [
    {
     "name": "stdout",
     "output_type": "stream",
     "text": [
      "매칭된 파일 수: 101\n",
      "매칭되지 않은 PID 목록:\n",
      "09996819\n",
      "06232766\n"
     ]
    }
   ],
   "source": [
    "import os\n",
    "import pandas as pd\n",
    "\n",
    "def load_labels_ex(csv_path):\n",
    "    # CSV 파일 읽기\n",
    "    df = pd.read_csv(csv_path)\n",
    "    # 'Rhythm' 값이 '2'인 행만 필터링\n",
    "    filtered_df = df[df['Rhythm'] == '2']\n",
    "    # PID를 키로, AFPH 값을 값으로 하는 사전 생성\n",
    "    pid_to_label = pd.Series(filtered_df['AFPH'].values, index=filtered_df['PID'].astype(str).str.zfill(8)).to_dict()\n",
    "    return pid_to_label\n",
    "\n",
    "# Load the CSV file containing the labels and PIDs\n",
    "label_csv_path = '/home/ubuntu/hw/심계항진_날짜포함.csv'\n",
    "pid_to_label = load_labels_ex(label_csv_path)\n",
    "\n",
    "# Directory where the data files are stored\n",
    "data_npy = '/data/0ho/mobicare_pal_holter/destination_for_1'\n",
    "\n",
    "# List all .csv files in the specified directory\n",
    "npy_files = [f for f in os.listdir(data_npy) if f.endswith('.csv')]\n",
    "\n",
    "# Adjust file names to be 8 digits if they are not\n",
    "formatted_files = [f[:-4].zfill(8) + '.csv' for f in npy_files]  # Ensure all file names are 8 digits long\n",
    "\n",
    "# Initialize the count for matched files\n",
    "match_count = 0\n",
    "\n",
    "# List to store PIDs that do not match\n",
    "unmatched_pids = []\n",
    "\n",
    "# Check each PID in the filtered label data\n",
    "for pid, afph in pid_to_label.items():\n",
    "    if f'{pid}.csv' in formatted_files:\n",
    "        match_count += 1\n",
    "    else:\n",
    "        # If no match, add to the list of unmatched PIDs\n",
    "        unmatched_pids.append(pid)\n",
    "\n",
    "# Print the number of matched files\n",
    "print(f'매칭된 파일 수: {match_count}')\n",
    "\n",
    "# Print PIDs that did not match\n",
    "print(\"매칭되지 않은 PID 목록:\")\n",
    "for pid in unmatched_pids:\n",
    "    print(pid)\n"
   ]
  },
  {
   "cell_type": "code",
   "execution_count": 40,
   "id": "ceaa088e-bf97-44f9-a17e-cf068c57fe7e",
   "metadata": {},
   "outputs": [
    {
     "name": "stdout",
     "output_type": "stream",
     "text": [
      "매칭된 파일 수: 101\n",
      "AFPH가 1인 파일 수: 33\n",
      "AFPH가 0인 파일 수: 68\n",
      "매칭되지 않은 PID 목록:\n",
      "09996819\n",
      "06232766\n"
     ]
    }
   ],
   "source": [
    "import os\n",
    "import pandas as pd\n",
    "\n",
    "def load_labels_ex(csv_path):\n",
    "    # CSV 파일 읽기\n",
    "    df = pd.read_csv(csv_path)\n",
    "    # 'Rhythm' 값이 '2'인 행만 필터링\n",
    "    filtered_df = df[df['Rhythm'] == '2']\n",
    "    # PID를 키로, AFPH 값을 값으로 하는 사전 생성\n",
    "    pid_to_label = pd.Series(filtered_df['AFPH'].values, index=filtered_df['PID'].astype(str).str.zfill(8)).to_dict()\n",
    "    return pid_to_label\n",
    "\n",
    "# Load the CSV file containing the labels and PIDs\n",
    "label_csv_path = '/home/ubuntu/hw/심계항진_날짜포함.csv'\n",
    "pid_to_label = load_labels_ex(label_csv_path)\n",
    "\n",
    "# Directory where the data files are stored\n",
    "data_npy = '/data/0ho/mobicare_pal_holter/destination_for_1'\n",
    "\n",
    "# List all .csv files in the specified directory\n",
    "npy_files = [f for f in os.listdir(data_npy) if f.endswith('.csv')]\n",
    "\n",
    "# Adjust file names to be 8 digits if they are not\n",
    "formatted_files = [f[:-4].zfill(8) + '.csv' for f in npy_files]  # Ensure all file names are 8 digits long\n",
    "\n",
    "# Initialize counters\n",
    "match_count = 0\n",
    "afph_1_count = 0\n",
    "afph_0_count = 0\n",
    "\n",
    "# List to store PIDs that do not match\n",
    "unmatched_pids = []\n",
    "\n",
    "# Check each PID in the filtered label data\n",
    "for pid, afph in pid_to_label.items():\n",
    "    if f'{pid}.csv' in formatted_files:\n",
    "        match_count += 1\n",
    "        if afph == 1:\n",
    "            afph_1_count += 1\n",
    "        elif afph == 0:\n",
    "            afph_0_count += 1\n",
    "    else:\n",
    "        # If no match, add to the list of unmatched PIDs\n",
    "        unmatched_pids.append(pid)\n",
    "\n",
    "# Print the number of matched files\n",
    "print(f'매칭된 파일 수: {match_count}')\n",
    "print(f'AFPH가 1인 파일 수: {afph_1_count}')\n",
    "print(f'AFPH가 0인 파일 수: {afph_0_count}')\n",
    "\n",
    "# Print PIDs that did not match\n",
    "print(\"매칭되지 않은 PID 목록:\")\n",
    "for pid in unmatched_pids:\n",
    "    print(pid)\n"
   ]
  },
  {
   "cell_type": "code",
   "execution_count": 36,
   "id": "862b6c84-c450-464b-a902-6dd5406b067c",
   "metadata": {},
   "outputs": [
    {
     "name": "stdout",
     "output_type": "stream",
     "text": [
      "Rhythm 값별 개수:\n",
      "Rhythm\n",
      "2        103\n",
      "3         32\n",
      "1         23\n",
      "중도 탈락      2\n",
      "Name: count, dtype: int64\n"
     ]
    }
   ],
   "source": [
    "import pandas as pd\n",
    "\n",
    "# CSV 파일 경로\n",
    "label_csv_path = '/home/ubuntu/hw/심계항진_날짜포함.csv'\n",
    "\n",
    "# CSV 파일 로드\n",
    "label_csv = pd.read_csv(label_csv_path)\n",
    "\n",
    "# 'Rhythm' 열의 값별로 개수 세기\n",
    "rhythm_counts = label_csv['Rhythm'].value_counts()\n",
    "\n",
    "# 결과 출력\n",
    "print(\"Rhythm 값별 개수:\")\n",
    "print(rhythm_counts)\n"
   ]
  },
  {
   "cell_type": "code",
   "execution_count": 15,
   "id": "1f7b5e2f-f98c-4f7c-89c4-71f281bd3134",
   "metadata": {},
   "outputs": [
    {
     "data": {
      "text/html": [
       "<div>\n",
       "<style scoped>\n",
       "    .dataframe tbody tr th:only-of-type {\n",
       "        vertical-align: middle;\n",
       "    }\n",
       "\n",
       "    .dataframe tbody tr th {\n",
       "        vertical-align: top;\n",
       "    }\n",
       "\n",
       "    .dataframe thead th {\n",
       "        text-align: right;\n",
       "    }\n",
       "</style>\n",
       "<table border=\"1\" class=\"dataframe\">\n",
       "  <thead>\n",
       "    <tr style=\"text-align: right;\">\n",
       "      <th></th>\n",
       "      <th>SN.</th>\n",
       "      <th>PID</th>\n",
       "      <th>생년월일</th>\n",
       "      <th>방문1\\n측정 일자</th>\n",
       "      <th>AFPH</th>\n",
       "      <th>AF 시술</th>\n",
       "      <th>AF MED</th>\n",
       "      <th>Rhythm</th>\n",
       "      <th>ST-T change</th>\n",
       "      <th>Others</th>\n",
       "      <th>방문2\\n측정일자</th>\n",
       "      <th>2_Rhythm</th>\n",
       "      <th>ST-T change.1</th>\n",
       "      <th>Others.1</th>\n",
       "      <th>방문3\\n측정일자</th>\n",
       "      <th>방문3\\nRhythm</th>\n",
       "      <th>ST-T change.2</th>\n",
       "      <th>Others.2</th>\n",
       "    </tr>\n",
       "  </thead>\n",
       "  <tbody>\n",
       "    <tr>\n",
       "      <th>0</th>\n",
       "      <td>20001</td>\n",
       "      <td>13678855</td>\n",
       "      <td>2002.01.15</td>\n",
       "      <td>2022.05.12</td>\n",
       "      <td>0</td>\n",
       "      <td>0</td>\n",
       "      <td>0</td>\n",
       "      <td>2</td>\n",
       "      <td>NaN</td>\n",
       "      <td>NaN</td>\n",
       "      <td>2022.06.09</td>\n",
       "      <td>2.0</td>\n",
       "      <td>NaN</td>\n",
       "      <td>NaN</td>\n",
       "      <td>2022.06.23</td>\n",
       "      <td>2.0</td>\n",
       "      <td>NaN</td>\n",
       "      <td>NaN</td>\n",
       "    </tr>\n",
       "    <tr>\n",
       "      <th>1</th>\n",
       "      <td>20002</td>\n",
       "      <td>16695622</td>\n",
       "      <td>1968.06.13</td>\n",
       "      <td>2022.05.12</td>\n",
       "      <td>0</td>\n",
       "      <td>0</td>\n",
       "      <td>0</td>\n",
       "      <td>2</td>\n",
       "      <td>NaN</td>\n",
       "      <td>NaN</td>\n",
       "      <td>2022.06.09</td>\n",
       "      <td>2.0</td>\n",
       "      <td>NaN</td>\n",
       "      <td>NaN</td>\n",
       "      <td>NaN</td>\n",
       "      <td>NaN</td>\n",
       "      <td>NaN</td>\n",
       "      <td>NaN</td>\n",
       "    </tr>\n",
       "    <tr>\n",
       "      <th>2</th>\n",
       "      <td>20003</td>\n",
       "      <td>15949638</td>\n",
       "      <td>1959.04.20</td>\n",
       "      <td>2022.05.12</td>\n",
       "      <td>0</td>\n",
       "      <td>0</td>\n",
       "      <td>0</td>\n",
       "      <td>3</td>\n",
       "      <td>NaN</td>\n",
       "      <td>VT</td>\n",
       "      <td>2022.06.09</td>\n",
       "      <td>2.0</td>\n",
       "      <td>NaN</td>\n",
       "      <td>NaN</td>\n",
       "      <td>NaN</td>\n",
       "      <td>NaN</td>\n",
       "      <td>NaN</td>\n",
       "      <td>NaN</td>\n",
       "    </tr>\n",
       "    <tr>\n",
       "      <th>3</th>\n",
       "      <td>20004</td>\n",
       "      <td>21803846</td>\n",
       "      <td>1968.12.29</td>\n",
       "      <td>2022.05.12</td>\n",
       "      <td>1</td>\n",
       "      <td>0</td>\n",
       "      <td>1</td>\n",
       "      <td>2</td>\n",
       "      <td>NaN</td>\n",
       "      <td>NaN</td>\n",
       "      <td>2022.06.09</td>\n",
       "      <td>2.0</td>\n",
       "      <td>NaN</td>\n",
       "      <td>NaN</td>\n",
       "      <td>2022.09.15</td>\n",
       "      <td>2.0</td>\n",
       "      <td>NaN</td>\n",
       "      <td>NaN</td>\n",
       "    </tr>\n",
       "    <tr>\n",
       "      <th>4</th>\n",
       "      <td>20005</td>\n",
       "      <td>23648069</td>\n",
       "      <td>1975.08.28</td>\n",
       "      <td>2022.05.12</td>\n",
       "      <td>0</td>\n",
       "      <td>0</td>\n",
       "      <td>0</td>\n",
       "      <td>2</td>\n",
       "      <td>NaN</td>\n",
       "      <td>NaN</td>\n",
       "      <td>2022.06.09</td>\n",
       "      <td>2.0</td>\n",
       "      <td>NaN</td>\n",
       "      <td>NaN</td>\n",
       "      <td>NaN</td>\n",
       "      <td>NaN</td>\n",
       "      <td>NaN</td>\n",
       "      <td>NaN</td>\n",
       "    </tr>\n",
       "  </tbody>\n",
       "</table>\n",
       "</div>"
      ],
      "text/plain": [
       "     SN.       PID        생년월일  방문1\\n측정 일자  AFPH  AF 시술  AF MED Rhythm  \\\n",
       "0  20001  13678855  2002.01.15  2022.05.12     0      0       0      2   \n",
       "1  20002  16695622  1968.06.13  2022.05.12     0      0       0      2   \n",
       "2  20003  15949638  1959.04.20  2022.05.12     0      0       0      3   \n",
       "3  20004  21803846  1968.12.29  2022.05.12     1      0       1      2   \n",
       "4  20005  23648069  1975.08.28  2022.05.12     0      0       0      2   \n",
       "\n",
       "  ST-T change Others   방문2\\n측정일자  2_Rhythm  ST-T change.1 Others.1  \\\n",
       "0         NaN    NaN  2022.06.09       2.0            NaN      NaN   \n",
       "1         NaN    NaN  2022.06.09       2.0            NaN      NaN   \n",
       "2         NaN     VT  2022.06.09       2.0            NaN      NaN   \n",
       "3         NaN    NaN  2022.06.09       2.0            NaN      NaN   \n",
       "4         NaN    NaN  2022.06.09       2.0            NaN      NaN   \n",
       "\n",
       "    방문3\\n측정일자  방문3\\nRhythm  ST-T change.2  Others.2  \n",
       "0  2022.06.23          2.0            NaN       NaN  \n",
       "1         NaN          NaN            NaN       NaN  \n",
       "2         NaN          NaN            NaN       NaN  \n",
       "3  2022.09.15          2.0            NaN       NaN  \n",
       "4         NaN          NaN            NaN       NaN  "
      ]
     },
     "execution_count": 15,
     "metadata": {},
     "output_type": "execute_result"
    }
   ],
   "source": [
    "label_csv.head()"
   ]
  },
  {
   "cell_type": "code",
   "execution_count": 9,
   "id": "bf2e45a2-6fea-49e9-9871-865ce0807ed8",
   "metadata": {},
   "outputs": [
    {
     "name": "stdout",
     "output_type": "stream",
     "text": [
      "매칭된 파일 수: 0\n"
     ]
    }
   ],
   "source": [
    "import os\n",
    "import pandas as pd\n",
    "\n",
    "# CSV 파일 로드\n",
    "label_csv_path = '/home/ubuntu/hw/심계항진_날짜포함.csv'\n",
    "label_csv = pd.read_csv(label_csv_path)\n",
    "\n",
    "# npy 파일 디렉터리\n",
    "data_npy_path = '/data/hw/external_data_clean_pidmatch_10/'\n",
    "npy_files = [f for f in os.listdir(data_npy_path) if f.endswith('.npy')]\n",
    "\n",
    "# PID 목록을 문자열로 변환하여 셋으로 저장\n",
    "pid_set = set(label_csv['PID'].astype(str))\n",
    "\n",
    "# 매칭 카운트 초기화\n",
    "match_count = 0\n",
    "\n",
    "# 파일명에서 PID 부분만 추출하고, 매칭되는지 확인\n",
    "for file_name in npy_files:\n",
    "    # 언더스코어로 분리하고 첫 번째 부분을 취함 (PID)\n",
    "    pid = file_name.split('_')[0]\n",
    "    if pid in pid_set:\n",
    "        match_count += 1\n",
    "\n",
    "print(f'매칭된 파일 수: {match_count}')\n"
   ]
  },
  {
   "cell_type": "code",
   "execution_count": 58,
   "id": "2abe2d21-3091-4eb8-ab51-846ac3c3ce03",
   "metadata": {},
   "outputs": [
    {
     "ename": "NameError",
     "evalue": "name 'hw' is not defined",
     "output_type": "error",
     "traceback": [
      "\u001b[0;31m---------------------------------------------------------------------------\u001b[0m",
      "\u001b[0;31mNameError\u001b[0m                                 Traceback (most recent call last)",
      "Cell \u001b[0;32mIn[58], line 3\u001b[0m\n\u001b[1;32m      1\u001b[0m \u001b[38;5;28;01mimport\u001b[39;00m \u001b[38;5;21;01mos\u001b[39;00m\n\u001b[1;32m      2\u001b[0m data_npy\u001b[38;5;241m=\u001b[39m\u001b[38;5;124m'\u001b[39m\u001b[38;5;124m/data/0ho/mobicare_pal_holter/destination_for_1\u001b[39m\u001b[38;5;124m'\u001b[39m\n\u001b[0;32m----> 3\u001b[0m data\u001b[38;5;241m/\u001b[39m\u001b[43mhw\u001b[49m\u001b[38;5;241m/\u001b[39mmobile_ecg()\n\u001b[1;32m      4\u001b[0m \u001b[38;5;28;01mdef\u001b[39;00m \u001b[38;5;21mcount_csv_files\u001b[39m(directory):\n\u001b[1;32m      5\u001b[0m     csv_count \u001b[38;5;241m=\u001b[39m \u001b[38;5;241m0\u001b[39m\n",
      "\u001b[0;31mNameError\u001b[0m: name 'hw' is not defined"
     ]
    }
   ],
   "source": [
    "import os\n",
    "data_npy='/data/0ho/mobicare_pal_holter/destination_for_1'\n",
    "def count_csv_files(directory):\n",
    "    csv_count = 0\n",
    "    for file in os.listdir(directory):\n",
    "        if file.endswith('.csv'):\n",
    "            csv_count += 1\n",
    "    return csv_count\n",
    "\n",
    "count_csv_files(data_npy)"
   ]
  },
  {
   "cell_type": "code",
   "execution_count": 61,
   "id": "6e8471c9-8ba2-43a1-a009-6989044ff70c",
   "metadata": {},
   "outputs": [
    {
     "data": {
      "text/plain": [
       "7199"
      ]
     },
     "execution_count": 61,
     "metadata": {},
     "output_type": "execute_result"
    }
   ],
   "source": [
    "import os\n",
    "data_npy='/data/hw/mobile_ecg'\n",
    "\n",
    "\n",
    "\n",
    "# /data/hw/mobile_ecg\n",
    "def count_csv_files(directory):\n",
    "    csv_count = 0\n",
    "    for file in os.listdir(directory):\n",
    "        if file.endswith('.npy'):\n",
    "            csv_count += 1\n",
    "    return csv_count\n",
    "\n",
    "count_csv_files(data_npy)"
   ]
  },
  {
   "cell_type": "code",
   "execution_count": null,
   "id": "80dd9b7c-9a3a-4118-a876-79cdd8cba536",
   "metadata": {},
   "outputs": [],
   "source": [
    "import os\n",
    "data_npy='/data/hw/mobile_ecg'\n",
    "# /data/hw/mobile_ecg\n",
    "def count_csv_files(directory):\n",
    "    csv_count = 0\n",
    "    for file in os.listdir(directory):\n",
    "        if file.endswith('.npy'):\n",
    "            csv_count += 1\n",
    "    return csv_count\n",
    "\n",
    "count_csv_files(data_npy)"
   ]
  },
  {
   "cell_type": "code",
   "execution_count": null,
   "id": "5283f310-2a5e-4796-bb23-62afd79925c9",
   "metadata": {},
   "outputs": [],
   "source": [
    "import os\n",
    "\n",
    "data_npy = '/data/mkdata/0410_12lead'\n",
    "\n",
    "def count_npy_files_startswith(directory, prefix):\n",
    "    npy_count = 0\n",
    "    for file in os.listdir(directory):\n",
    "        if file.endswith('.npy') and file.startswith(prefix):\n",
    "            npy_count += 1\n",
    "    return npy_count\n",
    "\n",
    "# 's_'로 시작하는 .npy 파일들의 수를 카운트\n",
    "count = count_npy_files_startswith(data_npy, 's_')\n",
    "print(count)\n"
   ]
  },
  {
   "cell_type": "code",
   "execution_count": 51,
   "id": "f2dd7722-e1e5-4fac-a9e5-de57d400e063",
   "metadata": {},
   "outputs": [
    {
     "name": "stdout",
     "output_type": "stream",
     "text": [
      "'AFPH' 컬럼 내 1의 갯수: 2047\n",
      "'AFPH' 컬럼 내 0의 갯수: 4759\n",
      "'NSR' 컬럼 내 1의 갯수: 5860\n",
      "'NSR' 컬럼 내 0의 갯수: 946\n",
      "'AF' 컬럼 내 1의 갯수: 894\n",
      "'AF' 컬럼 내 0의 갯수: 5912\n"
     ]
    }
   ],
   "source": [
    "import pandas as pd\n",
    "\n",
    "# CSV 파일 경로\n",
    "file_path = '/data/hw/12Lead+Mobile_ECG/orig_20230816/label/Total_Mobile_label.csv'\n",
    "\n",
    "# CSV 파일 읽기\n",
    "df = pd.read_csv(file_path)\n",
    "\n",
    "# 'AFPH', 'NSR', 'AF' 컬럼 내 1과 0의 갯수 세기\n",
    "for column in ['AFPH', 'NSR', 'AF']:\n",
    "    if column in df.columns:\n",
    "        count_1 = (df[column] == 1).sum()\n",
    "        count_0 = (df[column] == 0).sum()\n",
    "        print(f\"'{column}' 컬럼 내 1의 갯수: {count_1}\")\n",
    "        print(f\"'{column}' 컬럼 내 0의 갯수: {count_0}\")\n",
    "    else:\n",
    "        print(f\"'{column}' 컬럼은 데이터에 존재하지 않습니다.\")\n"
   ]
  },
  {
   "cell_type": "code",
   "execution_count": 105,
   "id": "c7826a23-8230-46c1-93fd-711f5ee8440c",
   "metadata": {},
   "outputs": [
    {
     "data": {
      "text/plain": [
       "6104"
      ]
     },
     "execution_count": 105,
     "metadata": {},
     "output_type": "execute_result"
    }
   ],
   "source": [
    "label_csv = pd.read_csv('/data/hw/12Lead+Mobile_ECG/orig_20230816/label/Total_Mobile_label.csv')\n",
    "label_csv2 = pd.read_csv('/home/ubuntu/hw/2023-05-31_mECG판독명단(PAC,PVC,noise제거).csv')\n",
    "\n",
    "# 'PID' 컬럼을 문자열로 변환\n",
    "label_csv['PID'] = label_csv['PID'].astype(str).apply(lambda x:x.zfill(8))\n",
    "label_csv2['PID'] = label_csv2['PID'].astype(str).apply(lambda x:x.zfill(8))\n",
    "\n",
    "merge_df = pd.merge(label_csv,label_csv2, on='PID', how='inner')\n",
    "\n",
    "len(merge_df)"
   ]
  },
  {
   "cell_type": "code",
   "execution_count": 91,
   "id": "8b044211-b6d7-4c31-9efe-d8348b273a6d",
   "metadata": {},
   "outputs": [],
   "source": [
    "label_csv2.to_csv('2023-05-31_s_patch_label.csv',index=False)"
   ]
  },
  {
   "cell_type": "code",
   "execution_count": 41,
   "id": "15e07cd3-fbd4-452b-a7c1-95c2bb37f6c1",
   "metadata": {},
   "outputs": [
    {
     "name": "stdout",
     "output_type": "stream",
     "text": [
      "2354\n"
     ]
    }
   ],
   "source": [
    "import os\n",
    "\n",
    "def count_csv_files(directory):\n",
    "    csv_count = 0\n",
    "    for file in os.listdir(directory):\n",
    "        if file.endswith('.npy'):\n",
    "            csv_count += 1\n",
    "    return csv_count\n",
    "\n",
    "directory_path = '/data/hw/external_data_clean_pidmatch_10/'\n",
    "csv_count1 = count_csv_files(directory_path)\n",
    "print(csv_count1)\n",
    "# 32066\n"
   ]
  },
  {
   "cell_type": "code",
   "execution_count": 17,
   "id": "2f3b61f2-781e-46bd-b38b-08d8a68e3cb6",
   "metadata": {},
   "outputs": [
    {
     "name": "stdout",
     "output_type": "stream",
     "text": [
      "AF 값 분포:\n",
      "{0: 5222, 1: 775}\n"
     ]
    }
   ],
   "source": [
    "import pandas as pd\n",
    "import os\n",
    "\n",
    "def load_labels(csv_path):\n",
    "    # 라벨 데이터 로드\n",
    "    df = pd.read_csv(csv_path)\n",
    "    # PID를 문자열로 변환하여 인덱스로 사용하고, AF 값을 딕셔너리로 변환\n",
    "    pid_to_af = pd.Series(df.AF.values, index=df.PID.astype(str)).to_dict()\n",
    "    return pid_to_af\n",
    "\n",
    "def extract_pid_from_filename(filename):\n",
    "    # 파일 이름으로부터 PID 추출 (예: '12345678.csv' -> '12345678')\n",
    "    pid = filename.split('.')[0]\n",
    "    return pid\n",
    "\n",
    "def count_af_values(directory, pid_to_af):\n",
    "    af_counts = {0: 0, 1: 0}  # AF 값 카운터 초기화\n",
    "    \n",
    "    for filename in os.listdir(directory):\n",
    "        if filename.endswith('.csv'):\n",
    "            pid = extract_pid_from_filename(filename)\n",
    "            if pid in pid_to_af:\n",
    "                af_value = pid_to_af[pid]\n",
    "                af_counts[af_value] += 1\n",
    "    \n",
    "    return af_counts\n",
    "\n",
    "# 라벨 데이터 및 데이터 디렉토리 경로\n",
    "labels_csv = '/home/ubuntu/hw/12Lead+Mobile_ECG/orig_20230816/label/Total_Mobile_label.csv'\n",
    "data_dir = '/data/old1/Wearable_ECG/Wearable_ECG/WearableECG(signal)'\n",
    "\n",
    "# 라벨 데이터 로드\n",
    "pid_to_af = load_labels(labels_csv)\n",
    "\n",
    "# AF 값 카운팅\n",
    "af_counts = count_af_values(data_dir, pid_to_af)\n",
    "\n",
    "print(\"AF 값 분포:\")\n",
    "print(af_counts)\n"
   ]
  },
  {
   "cell_type": "code",
   "execution_count": 107,
   "id": "06c965a9-2812-461c-b267-cb036ceb633b",
   "metadata": {},
   "outputs": [],
   "source": [
    "save_folder_path = '/data/mobile_ecg_rawdata/Jenonnam_Result_ECG2CSV_mobi_care/clean_s_r_r_single/'"
   ]
  },
  {
   "cell_type": "code",
   "execution_count": 121,
   "id": "158c594c-a8f6-46ea-abc3-4844d5d70b68",
   "metadata": {},
   "outputs": [
    {
     "name": "stdout",
     "output_type": "stream",
     "text": [
      ".npy 파일 수: 32066\n"
     ]
    }
   ],
   "source": [
    "import os\n",
    "\n",
    "def count_npy_files(directory):\n",
    "    # 지정된 디렉토리 내의 모든 파일과 디렉토리 목록을 가져옴\n",
    "    all_items = os.listdir(directory)\n",
    "    \n",
    "    # '.npy' 확장자를 가진 파일만 필터링하여 카운트\n",
    "    npy_file_count = sum(1 for item in all_items if item.endswith('.npy'))\n",
    "    \n",
    "    return npy_file_count\n",
    "\n",
    "# 데이터 디렉토리 경로\n",
    "data_dir = '/data/clean_r_r_single'\n",
    "\n",
    "# .npy 파일 카운트\n",
    "npy_count = count_npy_files(data_dir)\n",
    "\n",
    "print(f\".npy 파일 수: {npy_count}\")\n"
   ]
  },
  {
   "cell_type": "code",
   "execution_count": 130,
   "id": "a6193cf1-c65f-450d-8476-879ea1574b71",
   "metadata": {},
   "outputs": [
    {
     "name": "stdout",
     "output_type": "stream",
     "text": [
      "AF 값 분포:\n",
      "{0: 25264, 1: 6802, 'unknown': 0}\n"
     ]
    }
   ],
   "source": [
    "import pandas as pd\n",
    "import os\n",
    "\n",
    "def load_labels(csv_path):\n",
    "    # 라벨 데이터 로드\n",
    "    df = pd.read_csv(csv_path)\n",
    "    # PID를 문자열로 변환하여 인덱스로 사용하고, AF 값을 딕셔너리로 변환\n",
    "    pid_to_af = pd.Series(df.AFPH.values, index=df.PID.astype(str)).to_dict()\n",
    "    return pid_to_af\n",
    "\n",
    "def extract_pid_from_filename(filename):\n",
    "    pid = filename.split('_')[0]\n",
    "    return pid\n",
    "\n",
    "def count_af_values(directory, pid_to_af):\n",
    "    af_counts = {0: 0, 1: 0, 'unknown': 0}  # AF 값 카운터 초기화, 'unknown' 추가\n",
    "    \n",
    "    for filename in os.listdir(directory):\n",
    "        if filename.endswith('.npy'):\n",
    "            pid = extract_pid_from_filename(filename)\n",
    "            if pid in pid_to_af:\n",
    "                af_value = pid_to_af[pid]\n",
    "                af_counts[af_value] += 1\n",
    "            else:\n",
    "                # PID가 라벨 데이터에 없는 경우, 'unknown' 카운터 증가\n",
    "                af_counts['unknown'] += 1\n",
    "    \n",
    "    return af_counts\n",
    "\n",
    "# 라벨 데이터 및 데이터 디렉토리 경로\n",
    "labels_csv = '/data/hw/12Lead+Mobile_ECG/orig_20230816/label/Total_Mobile_label.csv'\n",
    "data_dir = '/data/clean_r_r_single/'\n",
    "\n",
    "# 라벨 데이터 로드\n",
    "pid_to_af = load_labels(labels_csv)\n",
    "\n",
    "# AF 값 카운팅\n",
    "af_counts = count_af_values(data_dir, pid_to_af)\n",
    "\n",
    "print(\"AF 값 분포:\")\n",
    "print(af_counts)\n"
   ]
  },
  {
   "cell_type": "code",
   "execution_count": 42,
   "id": "3e29c0f7-b965-4751-954e-282ac24133ec",
   "metadata": {},
   "outputs": [
    {
     "name": "stdout",
     "output_type": "stream",
     "text": [
      "'NORM' 컬럼 내 1의 갯수: 7172\n",
      "'NORM' 컬럼 내 0의 갯수: 14627\n",
      "'LVOLT' 컬럼 내 1의 갯수: 0\n",
      "'LVOLT' 컬럼 내 0의 갯수: 21799\n",
      "'SR' 컬럼 내 1의 갯수: 0\n",
      "'SR' 컬럼 내 0의 갯수: 21799\n"
     ]
    }
   ],
   "source": [
    "import pandas as pd\n",
    "\n",
    "# CSV 파일 경로\n",
    "file_path = '/home/ubuntu/hw/ptbxl_database_modified.csv'\n",
    "\n",
    "# CSV 파일 읽기\n",
    "df = pd.read_csv(file_path)\n",
    "\n",
    "# 'AFPH', 'NSR', 'AF' 컬럼 내 1과 0의 갯수 세기\n",
    "for column in ['NORM', 'LVOLT', 'SR']:\n",
    "    if column in df.columns:\n",
    "        count_1 = (df[column] == 1).sum()\n",
    "        count_0 = (df[column] == 0).sum()\n",
    "        print(f\"'{column}' 컬럼 내 1의 갯수: {count_1}\")\n",
    "        print(f\"'{column}' 컬럼 내 0의 갯수: {count_0}\")\n",
    "    else:\n",
    "        print(f\"'{column}' 컬럼은 데이터에 존재하지 않습니다.\")\n"
   ]
  },
  {
   "cell_type": "code",
   "execution_count": 1,
   "id": "4d4c3f2e-04e6-4d27-b9de-c9ce9eaf19b5",
   "metadata": {},
   "outputs": [
    {
     "name": "stdout",
     "output_type": "stream",
     "text": [
      "'AFPH' 컬럼 내 1의 갯수 (AF가 1인 사람 제외): 1097\n",
      "'AFPH' 컬럼 내 0의 갯수 (AF가 1인 사람 제외): 4080\n",
      "'NSR' 컬럼 내 1의 갯수 (AF가 1인 사람 제외): 5149\n",
      "'NSR' 컬럼 내 0의 갯수 (AF가 1인 사람 제외): 28\n"
     ]
    }
   ],
   "source": [
    "import pandas as pd\n",
    "\n",
    "# CSV 파일 경로\n",
    "file_path = '/home/ubuntu/hw/12Lead+Mobile_ECG/orig_20230816/label/Mobile_label.csv'\n",
    "\n",
    "# CSV 파일 읽기\n",
    "df = pd.read_csv(file_path)\n",
    "\n",
    "# 'AF' 컬럼이 1인 행을 제외\n",
    "df_filtered = df[df['AF'] != 1]\n",
    "\n",
    "# 'AFPH', 'NSR' 컬럼 내 1과 0의 갯수 세기 (AF 컬럼이 1인 사람 제외)\n",
    "for column in ['AFPH', 'NSR']:\n",
    "    if column in df_filtered.columns:\n",
    "        count_1 = (df_filtered[column] == 1).sum()\n",
    "        count_0 = (df_filtered[column] == 0).sum()\n",
    "        print(f\"'{column}' 컬럼 내 1의 갯수 (AF가 1인 사람 제외): {count_1}\")\n",
    "        print(f\"'{column}' 컬럼 내 0의 갯수 (AF가 1인 사람 제외): {count_0}\")\n",
    "    else:\n",
    "        print(f\"'{column}' 컬럼은 데이터에 존재하지 않습니다.\")"
   ]
  },
  {
   "cell_type": "code",
   "execution_count": 71,
   "id": "a4fdc581-63df-4ad1-830d-87d5f3f602ea",
   "metadata": {},
   "outputs": [
    {
     "name": "stdout",
     "output_type": "stream",
     "text": [
      "'AFPH' 컬럼 내 1의 갯수: 1221\n",
      "'AFPH' 컬럼 내 0의 갯수: 4605\n"
     ]
    }
   ],
   "source": [
    "import pandas as pd\n",
    "import numpy as np\n",
    "import os\n",
    "\n",
    "# CSV 파일 경로\n",
    "file_path = '/data/hw/12Lead+Mobile_ECG/orig_20230816/label/Total_Mobile_label.csv'\n",
    "\n",
    "# .npy 파일이 저장된 디렉토리 경로\n",
    "datapath = '/data/hw/mobile_ecg/'\n",
    "\n",
    "# CSV 파일 읽기\n",
    "df = pd.read_csv(file_path)\n",
    "\n",
    "# 'AF' 컬럼이 1인 행과 'NSR' 컬럼이 0인 행을 제외\n",
    "df_filtered = df[(df['AF'] != 1)]\n",
    "\n",
    "# .npy 파일 목록 불러오기\n",
    "npy_files = [f for f in os.listdir(datapath) if f.endswith('.npy')]\n",
    "\n",
    "# pid 추출하기 (파일 이름에서 첫 번째 '_' 앞의 숫자)\n",
    "pid_npy = {f.split('.')[0]: f for f in npy_files}\n",
    "\n",
    "# 필터링된 DataFrame에서 pid 기반으로 .npy 데이터 존재 여부 확인 및 카운팅\n",
    "for column in ['AFPH']:\n",
    "    if column in df_filtered.columns:\n",
    "        count_1 = 0\n",
    "        count_0 = 0\n",
    "        for _, row in df_filtered.iterrows():\n",
    "            pid = str(row['PID'])\n",
    "            if pid in pid_npy:\n",
    "                # .npy 파일 로드 (예: 환자 데이터)\n",
    "                data = np.load(os.path.join(datapath, pid_npy[pid]))\n",
    "                if row[column] == 1:\n",
    "                    count_1 += 1\n",
    "                elif row[column] == 0:\n",
    "                    count_0 += 1\n",
    "        print(f\"'{column}' 컬럼 내 1의 갯수: {count_1}\")\n",
    "        print(f\"'{column}' 컬럼 내 0의 갯수: {count_0}\")\n",
    "    else:\n",
    "        print(f\"'{column}' 컬럼은 데이터에 존재하지 않습니다.\")\n"
   ]
  },
  {
   "cell_type": "code",
   "execution_count": 72,
   "id": "08d663df-85d4-4708-9208-0a10c9734855",
   "metadata": {},
   "outputs": [
    {
     "name": "stdout",
     "output_type": "stream",
     "text": [
      "'AFPH' 컬럼 내 1의 갯수 (AF가 1인 사람 제외): 1061\n",
      "'AFPH' 컬럼 내 0의 갯수 (AF가 1인 사람 제외): 3961\n",
      "'NSR' 컬럼 내 1의 갯수 (AF가 1인 사람 제외): 5000\n",
      "'NSR' 컬럼 내 0의 갯수 (AF가 1인 사람 제외): 22\n"
     ]
    }
   ],
   "source": [
    "import pandas as pd\n",
    "import numpy as np\n",
    "import os\n",
    "\n",
    "# CSV 파일 경로\n",
    "file_path = '/data/hw/12Lead+Mobile_ECG/orig_20230816/label/Total_Mobile_label.csv'\n",
    "\n",
    "# .npy 파일이 저장된 디렉토리 경로\n",
    "datapath = '/data/clean_r_r_single/'\n",
    "\n",
    "# CSV 파일 읽기\n",
    "df = pd.read_csv(file_path)\n",
    "\n",
    "# 'AF' 컬럼이 1인 행을 제외\n",
    "df_filtered = df[df['AF'] != 1]\n",
    "\n",
    "# .npy 파일 목록 불러오기\n",
    "npy_files = [f for f in os.listdir(datapath) if f.endswith('.npy')]\n",
    "\n",
    "# pid 추출하기 (파일 이름에서 첫 번째 '_' 앞의 숫자)\n",
    "pid_npy = {f.split('_')[0]: f for f in npy_files}\n",
    "\n",
    "# 필터링된 DataFrame에서 pid 기반으로 .npy 데이터 존재 여부 확인 및 카운팅\n",
    "for column in ['AFPH', 'NSR']:\n",
    "    if column in df_filtered.columns:\n",
    "        count_1 = 0\n",
    "        count_0 = 0\n",
    "        for _, row in df_filtered.iterrows():\n",
    "            pid = str(row['PID'])\n",
    "            if pid in pid_npy:\n",
    "                # 여기서는 .npy 파일의 존재 여부만 확인\n",
    "                if row[column] == 1:\n",
    "                    count_1 += 1\n",
    "                elif row[column] == 0:\n",
    "                    count_0 += 1\n",
    "        print(f\"'{column}' 컬럼 내 1의 갯수 (AF가 1인 사람 제외): {count_1}\")\n",
    "        print(f\"'{column}' 컬럼 내 0의 갯수 (AF가 1인 사람 제외): {count_0}\")\n",
    "    else:\n",
    "        print(f\"'{column}' 컬럼은 데이터에 존재하지 않습니다.\")\n"
   ]
  },
  {
   "cell_type": "code",
   "execution_count": 79,
   "id": "2ec25902-08d9-4214-bd46-c9fffa7016de",
   "metadata": {},
   "outputs": [
    {
     "name": "stdout",
     "output_type": "stream",
     "text": [
      "Total CSV PIDs: 6806\n",
      "Total .npy files found: 7199\n",
      ".npy files matching with CSV PIDs: 5774\n",
      "Number of people with 'AF' == 1: 894.0\n",
      "'AFPH' 컬럼 내 1의 갯수 (AF가 1인 사람 제외): 1192\n",
      "'AFPH' 컬럼 내 0의 갯수 (AF가 1인 사람 제외): 4582\n",
      "'NSR' 컬럼 내 1의 갯수 (AF가 1인 사람 제외): 5774\n",
      "'NSR' 컬럼 내 0의 갯수 (AF가 1인 사람 제외): 0\n"
     ]
    }
   ],
   "source": [
    "import pandas as pd\n",
    "import numpy as np\n",
    "import os\n",
    "\n",
    "# CSV 파일 경로\n",
    "file_path = '/data/hw/12Lead+Mobile_ECG/orig_20230816/label/Total_Mobile_label.csv'\n",
    "\n",
    "# .npy 파일이 저장된 디렉토리 경로\n",
    "datapath = '/data/hw/mobile_ecg/'\n",
    "\n",
    "# CSV 파일 읽기\n",
    "df = pd.read_csv(file_path)\n",
    "\n",
    "# 'AF' 컬럼이 1인 행을 제외\n",
    "df_filtered = df[df['AF'] != 1]\n",
    "\n",
    "# .npy 파일 목록 불러오기\n",
    "npy_files = [f for f in os.listdir(datapath) if f.endswith('.npy')]\n",
    "\n",
    "# pid 추출하기 (파일 이름에서 첫 번째 '_' 앞의 숫자)\n",
    "pid_npy = {f.split('.')[0]: f for f in npy_files}\n",
    "\n",
    "# AF 컬럼이 1인 사람의 수\n",
    "df_filtered = df[(df['AF'] != 1) & (df['NSR'] != 0)]\n",
    "\n",
    "# 데이터 프레임에서 존재하는 모든 PID 갯수\n",
    "total_pids = df['PID'].nunique()\n",
    "\n",
    "# .npy 파일이 있는 PID 갯수\n",
    "npy_pids_count = len(set(pid_npy.keys()))\n",
    "\n",
    "# PID 기반으로 .npy 데이터 존재 여부 확인 및 카운팅\n",
    "count_npy_exists = 0  # .npy 파일이 있는 데이터의 갯수\n",
    "for pid in df_filtered['PID'].unique():\n",
    "    if str(pid) in pid_npy:\n",
    "        count_npy_exists += 1\n",
    "\n",
    "# 각 컬럼의 1과 0의 수\n",
    "counts = {column: {'1': 0, '0': 0} for column in ['AFPH', 'NSR'] if column in df_filtered.columns}\n",
    "for _, row in df_filtered.iterrows():\n",
    "    pid = str(row['PID'])\n",
    "    if pid in pid_npy:\n",
    "        for column in counts:\n",
    "            if row[column] == 1:\n",
    "                counts[column]['1'] += 1\n",
    "            elif row[column] == 0:\n",
    "                counts[column]['0'] += 1\n",
    "\n",
    "# 결과 출력\n",
    "print(f\"Total CSV PIDs: {total_pids}\")\n",
    "print(f\"Total .npy files found: {npy_pids_count}\")\n",
    "print(f\".npy files matching with CSV PIDs: {count_npy_exists}\")\n",
    "print(f\"Number of people with 'AF' == 1: {af_count}\")\n",
    "for column, data in counts.items():\n",
    "    print(f\"'{column}' 컬럼 내 1의 갯수 (AF가 1인 사람 제외): {data['1']}\")\n",
    "    print(f\"'{column}' 컬럼 내 0의 갯수 (AF가 1인 사람 제외): {data['0']}\")\n"
   ]
  },
  {
   "cell_type": "code",
   "execution_count": 81,
   "id": "2d8e2f47-cdba-4732-ad64-fc6eb7e6c8a2",
   "metadata": {},
   "outputs": [
    {
     "name": "stdout",
     "output_type": "stream",
     "text": [
      "Total CSV PIDs: 6806\n",
      "Total .npy files found: 7199\n",
      ".npy files matching with CSV PIDs: 6706\n",
      "Number of matching people with 'AF' == 1: 880\n",
      "Number of matching people with 'NSR' == 0: 928\n",
      "Filtered PID count after excluding 'AF' == 1 or 'NSR' == 0: 5774\n"
     ]
    }
   ],
   "source": [
    "import pandas as pd\n",
    "import numpy as np\n",
    "import os\n",
    "\n",
    "# CSV 파일 경로\n",
    "file_path = '/data/hw/12Lead+Mobile_ECG/orig_20230816/label/Total_Mobile_label.csv'\n",
    "\n",
    "# .npy 파일이 저장된 디렉토리 경로\n",
    "datapath = '/data/hw/mobile_ecg/'\n",
    "\n",
    "# CSV 파일 읽기\n",
    "df = pd.read_csv(file_path)\n",
    "\n",
    "# .npy 파일 목록 불러오기\n",
    "npy_files = [f for f in os.listdir(datapath) if f.endswith('.npy')]\n",
    "\n",
    "# pid 추출하기 (파일 이름에서 첫 번째 '_' 앞의 숫자)\n",
    "pid_npy = {f.split('.')[0]: f for f in npy_files}\n",
    "\n",
    "# 데이터 프레임에서 존재하는 모든 PID 갯수\n",
    "total_pids = df['PID'].nunique()\n",
    "\n",
    "# .npy 파일이 있는 PID 갯수\n",
    "npy_pids_count = len(set(pid_npy.keys()))\n",
    "\n",
    "# .npy 파일과 매칭되는 CSV 데이터 확인\n",
    "matching_pids = df[df['PID'].astype(str).isin(pid_npy.keys())]\n",
    "\n",
    "# 매칭된 PID 중 'AF'가 1이거나 'NSR'가 0인 경우를 제외\n",
    "filtered_pids = matching_pids[(matching_pids['AF'] != 1) & (matching_pids['NSR'] != 0)]\n",
    "\n",
    "# 필터링된 PID의 수\n",
    "filtered_pid_count = filtered_pids.shape[0]\n",
    "\n",
    "# 결과 출력\n",
    "print(f\"Total CSV PIDs: {total_pids}\")\n",
    "print(f\"Total .npy files found: {npy_pids_count}\")\n",
    "print(f\".npy files matching with CSV PIDs: {matching_pids.shape[0]}\")\n",
    "print(f\"Number of matching people with 'AF' == 1: {matching_pids[matching_pids['AF'] == 1].shape[0]}\")\n",
    "print(f\"Number of matching people with 'NSR' == 0: {matching_pids[matching_pids['NSR'] == 0].shape[0]}\")\n",
    "print(f\"Filtered PID count after excluding 'AF' == 1 or 'NSR' == 0: {filtered_pid_count}\")\n"
   ]
  },
  {
   "cell_type": "code",
   "execution_count": 129,
   "id": "9cec766f-28b5-4458-b9a7-dc7774b0e17a",
   "metadata": {},
   "outputs": [
    {
     "name": "stdout",
     "output_type": "stream",
     "text": [
      "'AFPH' 컬럼 내 1의 갯수 (AF가 1이거나 NSR이 0인 사람 제외): 1192\n",
      "'AFPH' 컬럼 내 0의 갯수 (AF가 1이거나 NSR이 0인 사람 제외): 4582\n",
      "'NSR' 컬럼 내 1의 갯수 (AF가 1이거나 NSR이 0인 사람 제외): 5774\n",
      "'NSR' 컬럼 내 0의 갯수 (AF가 1이거나 NSR이 0인 사람 제외): 0\n"
     ]
    }
   ],
   "source": [
    "import pandas as pd\n",
    "import numpy as np\n",
    "import os\n",
    "\n",
    "# CSV 파일 경로\n",
    "file_path = '/data/hw/12Lead+Mobile_ECG/orig_20230816/label/Total_Mobile_label.csv'\n",
    "\n",
    "# .npy 파일이 저장된 디렉토리 경로\n",
    "datapath = '/data/hw/mobile_ecg_rawdata/Jenonnam_Result_ECG2CSV_mobi_care/mobi_data'\n",
    "\n",
    "# CSV 파일 읽기\n",
    "df = pd.read_csv(file_path)\n",
    "\n",
    "# 'AF' 컬럼이 1인 행과 'NSR' 컬럼이 0인 행을 제외\n",
    "df_filtered = df[(df['AF'] != 1) & (df['NSR'] != 0)]\n",
    "\n",
    "# .npy 파일 목록 불러오기\n",
    "npy_files = [f for f in os.listdir(datapath) if f.endswith('.npy')]\n",
    "\n",
    "# pid 추출하기 (파일 이름에서 첫 번째 '_' 앞의 숫자)\n",
    "pid_npy = {f.split('.')[0]: f for f in npy_files}\n",
    "\n",
    "# 필터링된 DataFrame에서 pid 기반으로 .npy 데이터 존재 여부 확인 및 카운팅\n",
    "for column in ['AFPH', 'NSR']:\n",
    "    if column in df_filtered.columns:\n",
    "        count_1 = 0\n",
    "        count_0 = 0\n",
    "        for _, row in df_filtered.iterrows():\n",
    "            pid = str(row['PID'])\n",
    "            if pid in pid_npy:\n",
    "                # 여기서는 .npy 파일의 존재 여부만 확인\n",
    "                if row[column] == 1:\n",
    "                    count_1 += 1\n",
    "                elif row[column] == 0:\n",
    "                    count_0 += 1\n",
    "        print(f\"'{column}' 컬럼 내 1의 갯수 (AF가 1이거나 NSR이 0인 사람 제외): {count_1}\")\n",
    "        print(f\"'{column}' 컬럼 내 0의 갯수 (AF가 1이거나 NSR이 0인 사람 제외): {count_0}\")\n",
    "    else:\n",
    "        print(f\"'{column}' 컬럼은 데이터에 존재하지 않습니다.\")\n"
   ]
  },
  {
   "cell_type": "code",
   "execution_count": 100,
   "id": "29de9244-d272-41b4-ba61-3adb3175816c",
   "metadata": {},
   "outputs": [
    {
     "name": "stdout",
     "output_type": "stream",
     "text": [
      "'AFPH' counts in matched subset:\n",
      "Series([], Name: count, dtype: int64)\n"
     ]
    }
   ],
   "source": [
    "import pandas as pd\n",
    "import os\n",
    "\n",
    "# Load CSV\n",
    "file_path = '/home/ubuntu/hw/ESUS holter_2024.01월까지_modified.csv'\n",
    "df = pd.read_csv(file_path)\n",
    "\n",
    "# Filter DF where AF == 1 or NSR == 0, then exclude these\n",
    "filtered_df = df[~((df['Rhythm'] == '1') | (df['PID'] == 0))]\n",
    "\n",
    "# Directory containing npy files\n",
    "npy_dir = '/data/mkdata/mk_1_to_12lead_pidmatch_10'\n",
    "\n",
    "\n",
    "# List npy files\n",
    "npy_files = [f for f in os.listdir(npy_dir) if f.endswith('.npy')]\n",
    "\n",
    "# Extract PIDs from filenames\n",
    "file_pids = set(os.path.splitext(name)[0].split('_')[0] for name in npy_files)\n",
    "# print(file_pids)\n",
    "# Match PIDs in filtered_df with those from npy files\n",
    "matched_pids = filtered_df[filtered_df['PID'].astype(str).isin(file_pids)]\n",
    "\n",
    "# Count 'AFPH' occurrences in the matched subset\n",
    "afph_count = matched_pids['AFPH'].value_counts()\n",
    "\n",
    "print(f\"'AFPH' counts in matched subset:\")\n",
    "print(afph_count)\n"
   ]
  },
  {
   "cell_type": "code",
   "execution_count": 68,
   "id": "db43353b-589d-4a9b-a10b-20c152f0851e",
   "metadata": {},
   "outputs": [
    {
     "name": "stdout",
     "output_type": "stream",
     "text": [
      "AFPH\n",
      "0.0    3190\n",
      "1.0     822\n",
      "Name: count, dtype: int64\n"
     ]
    }
   ],
   "source": [
    "import pandas as pd\n",
    "import os\n",
    "\n",
    "# Load CSV\n",
    "file_path = '/home/ubuntu/hw/ptbxl_database_modified.csv'\n",
    "df = pd.read_csv(file_path)\n",
    "\n",
    "# Filter DF where AF == 1 or NSR == 0, then exclude these\n",
    "filtered_df = df[~((df['Normal sinus rhythm'] == 1))]\n",
    "\n",
    "# Directory containing npy files\n",
    "npy_dir = '/data/mobile_ecg_rawdata/Jenonnam_Result_ECG2CSV_mobi_care/mobi_data/'\n",
    "\n",
    "# List npy files\n",
    "npy_files = [f for f in os.listdir(npy_dir) if f.endswith('.npy')]\n",
    "\n",
    "# Extract PIDs from filenames\n",
    "file_pids = set(os.path.splitext(name)[0].split('_')[0] for name in npy_files)\n",
    "# print(file_pids)\n",
    "# Match PIDs in filtered_df with those from npy files\n",
    "matched_pids = filtered_df[filtered_df['PID'].astype(str).isin(file_pids)]\n",
    "\n",
    "# Count 'AFPH' occurrences in the matched subset\n",
    "# afph_count = matched_pids['AFPH'].value_counts()\n",
    "\n",
    "# print(f\"'AFPH' counts in matched subset:\")\n",
    "print(afph_count)\n"
   ]
  },
  {
   "cell_type": "code",
   "execution_count": 82,
   "id": "d442e81b-94c0-4088-b4c3-ad45d88f48a4",
   "metadata": {},
   "outputs": [
    {
     "name": "stdout",
     "output_type": "stream",
     "text": [
      "Label 0 files count: 7863\n",
      "Label 1 files count: 428\n"
     ]
    }
   ],
   "source": [
    "import pandas as pd\n",
    "import os\n",
    "\n",
    "# CSV 파일 경로\n",
    "csv_file_path = '/home/ubuntu/hw/holter_label.csv'\n",
    "\n",
    "# 폴더 경로\n",
    "folder_path = '/data/old1/Holter_ECG/holter/'\n",
    "\n",
    "# CSV 파일 읽기\n",
    "df = pd.read_csv(csv_file_path)\n",
    "\n",
    "# 파일 목록 가져오기\n",
    "file_list = os.listdir(folder_path)\n",
    "\n",
    "# PID 기준으로 파일이 존재하는지 확인할 set 생성\n",
    "existing_pid_set = set()\n",
    "\n",
    "# 파일 목록에서 PID 추출\n",
    "for file_name in file_list:\n",
    "    # 파일 이름에서 PID 부분만 추출 (.SIG 또는 .hea 앞까지)\n",
    "    pid = file_name.split('.')[0]\n",
    "    # 파일 이름의 PID를 8자리 숫자 형태로 맞춤\n",
    "    pid_formatted = f\"{int(float(pid)):08d}\"\n",
    "    existing_pid_set.add(pid_formatted)\n",
    "\n",
    "# label이 0과 1인 PID 개수 초기화\n",
    "label_0_count = 0\n",
    "label_1_count = 0\n",
    "\n",
    "# PID와 label을 기준으로 파일 존재 여부 확인\n",
    "for index, row in df.iterrows():\n",
    "    # CSV에서 읽은 PID를 정수로 변환 후 8자리 문자열로 포매팅\n",
    "    pid = f\"{int(row['PID']):08d}\"\n",
    "    label = row['label']\n",
    "    \n",
    "    # 해당 PID에 대한 파일이 존재하는지 확인\n",
    "    if pid in existing_pid_set:\n",
    "        # label에 따라 카운트\n",
    "        if label == 0.0:\n",
    "            label_0_count += 1\n",
    "        elif label == 1.0:\n",
    "            label_1_count += 1\n",
    "\n",
    "# 결과 출력\n",
    "print(f\"Label 0 files count: {label_0_count}\")\n",
    "print(f\"Label 1 files count: {label_1_count}\")"
   ]
  },
  {
   "cell_type": "code",
   "execution_count": 85,
   "id": "4dc0a0d2-04e3-48e2-b77b-c5c671c3e031",
   "metadata": {},
   "outputs": [
    {
     "ename": "AttributeError",
     "evalue": "'DataFrame' object has no attribute 'append'",
     "output_type": "error",
     "traceback": [
      "\u001b[0;31m---------------------------------------------------------------------------\u001b[0m",
      "\u001b[0;31mAttributeError\u001b[0m                            Traceback (most recent call last)",
      "\u001b[0;32m/tmp/ipykernel_4489/1279336471.py\u001b[0m in \u001b[0;36m?\u001b[0;34m()\u001b[0m\n\u001b[1;32m     24\u001b[0m     \u001b[0mhea_file_exists\u001b[0m \u001b[0;34m=\u001b[0m \u001b[0mos\u001b[0m\u001b[0;34m.\u001b[0m\u001b[0mpath\u001b[0m\u001b[0;34m.\u001b[0m\u001b[0mexists\u001b[0m\u001b[0;34m(\u001b[0m\u001b[0mos\u001b[0m\u001b[0;34m.\u001b[0m\u001b[0mpath\u001b[0m\u001b[0;34m.\u001b[0m\u001b[0mjoin\u001b[0m\u001b[0;34m(\u001b[0m\u001b[0mfolder_path\u001b[0m\u001b[0;34m,\u001b[0m \u001b[0;34mf\"{pid}.hea\"\u001b[0m\u001b[0;34m)\u001b[0m\u001b[0;34m)\u001b[0m\u001b[0;34m\u001b[0m\u001b[0;34m\u001b[0m\u001b[0m\n\u001b[1;32m     25\u001b[0m \u001b[0;34m\u001b[0m\u001b[0m\n\u001b[1;32m     26\u001b[0m     \u001b[0;32mif\u001b[0m \u001b[0msig_file_exists\u001b[0m \u001b[0;32mand\u001b[0m \u001b[0mhea_file_exists\u001b[0m\u001b[0;34m:\u001b[0m\u001b[0;34m\u001b[0m\u001b[0;34m\u001b[0m\u001b[0m\n\u001b[1;32m     27\u001b[0m         \u001b[0;31m# 두 파일 모두 존재하는 경우, DataFrame에 추가\u001b[0m\u001b[0;34m\u001b[0m\u001b[0;34m\u001b[0m\u001b[0m\n\u001b[0;32m---> 28\u001b[0;31m         \u001b[0mfiltered_df\u001b[0m \u001b[0;34m=\u001b[0m \u001b[0mfiltered_df\u001b[0m\u001b[0;34m.\u001b[0m\u001b[0mappend\u001b[0m\u001b[0;34m(\u001b[0m\u001b[0;34m{\u001b[0m\u001b[0;34m'PID'\u001b[0m\u001b[0;34m:\u001b[0m \u001b[0mpid\u001b[0m\u001b[0;34m,\u001b[0m \u001b[0;34m'label'\u001b[0m\u001b[0;34m:\u001b[0m \u001b[0mlabel\u001b[0m\u001b[0;34m}\u001b[0m\u001b[0;34m,\u001b[0m \u001b[0mignore_index\u001b[0m\u001b[0;34m=\u001b[0m\u001b[0;32mTrue\u001b[0m\u001b[0;34m)\u001b[0m\u001b[0;34m\u001b[0m\u001b[0;34m\u001b[0m\u001b[0m\n\u001b[0m\u001b[1;32m     29\u001b[0m \u001b[0;34m\u001b[0m\u001b[0m\n\u001b[1;32m     30\u001b[0m \u001b[0;31m# 결과 출력\u001b[0m\u001b[0;34m\u001b[0m\u001b[0;34m\u001b[0m\u001b[0m\n\u001b[1;32m     31\u001b[0m \u001b[0mprint\u001b[0m\u001b[0;34m(\u001b[0m\u001b[0;34mf\"Total records with both .SIG and .hea files: {len(filtered_df)}\"\u001b[0m\u001b[0;34m)\u001b[0m\u001b[0;34m\u001b[0m\u001b[0;34m\u001b[0m\u001b[0m\n",
      "\u001b[0;32m~/miniforge3/envs/pt20_py310/lib/python3.10/site-packages/pandas/core/generic.py\u001b[0m in \u001b[0;36m?\u001b[0;34m(self, name)\u001b[0m\n\u001b[1;32m   6200\u001b[0m             \u001b[0;32mand\u001b[0m \u001b[0mname\u001b[0m \u001b[0;32mnot\u001b[0m \u001b[0;32min\u001b[0m \u001b[0mself\u001b[0m\u001b[0;34m.\u001b[0m\u001b[0m_accessors\u001b[0m\u001b[0;34m\u001b[0m\u001b[0;34m\u001b[0m\u001b[0m\n\u001b[1;32m   6201\u001b[0m             \u001b[0;32mand\u001b[0m \u001b[0mself\u001b[0m\u001b[0;34m.\u001b[0m\u001b[0m_info_axis\u001b[0m\u001b[0;34m.\u001b[0m\u001b[0m_can_hold_identifiers_and_holds_name\u001b[0m\u001b[0;34m(\u001b[0m\u001b[0mname\u001b[0m\u001b[0;34m)\u001b[0m\u001b[0;34m\u001b[0m\u001b[0;34m\u001b[0m\u001b[0m\n\u001b[1;32m   6202\u001b[0m         ):\n\u001b[1;32m   6203\u001b[0m             \u001b[0;32mreturn\u001b[0m \u001b[0mself\u001b[0m\u001b[0;34m[\u001b[0m\u001b[0mname\u001b[0m\u001b[0;34m]\u001b[0m\u001b[0;34m\u001b[0m\u001b[0;34m\u001b[0m\u001b[0m\n\u001b[0;32m-> 6204\u001b[0;31m         \u001b[0;32mreturn\u001b[0m \u001b[0mobject\u001b[0m\u001b[0;34m.\u001b[0m\u001b[0m__getattribute__\u001b[0m\u001b[0;34m(\u001b[0m\u001b[0mself\u001b[0m\u001b[0;34m,\u001b[0m \u001b[0mname\u001b[0m\u001b[0;34m)\u001b[0m\u001b[0;34m\u001b[0m\u001b[0;34m\u001b[0m\u001b[0m\n\u001b[0m",
      "\u001b[0;31mAttributeError\u001b[0m: 'DataFrame' object has no attribute 'append'"
     ]
    }
   ],
   "source": [
    "import pandas as pd\n",
    "import os\n",
    "\n",
    "# CSV 파일 경로\n",
    "csv_file_path = '/home/ubuntu/hw/holter_label.csv'\n",
    "\n",
    "# 폴더 경로\n",
    "folder_path = '/data/old1/Holter_ECG/holter/'\n",
    "\n",
    "# CSV 파일 읽기\n",
    "df = pd.read_csv(csv_file_path)\n",
    "\n",
    "# 조건을 만족하는 데이터를 저장할 빈 DataFrame 생성\n",
    "filtered_df = pd.DataFrame(columns=['PID', 'label'])\n",
    "\n",
    "# PID와 label을 기준으로 파일 존재 여부 확인\n",
    "for index, row in df.iterrows():\n",
    "    # CSV에서 읽은 PID를 정수로 변환 후 8자리 문자열로 포매팅\n",
    "    pid = f\"{int(row['PID']):08d}\"\n",
    "    label = row['label']\n",
    "    \n",
    "    # 해당 PID에 대한 .SIG 및 .hea 파일이 모두 존재하는지 확인\n",
    "    sig_file_exists = os.path.exists(os.path.join(folder_path, f\"{pid}.SIG\"))\n",
    "    hea_file_exists = os.path.exists(os.path.join(folder_path, f\"{pid}.hea\"))\n",
    "    \n",
    "    if sig_file_exists and hea_file_exists:\n",
    "        # 두 파일 모두 존재하는 경우, DataFrame에 추가\n",
    "        filtered_df = filtered_df.append({'PID': pid, 'label': label}, ignore_index=True)\n",
    "\n",
    "# 결과 출력\n",
    "print(f\"Total records with both .SIG and .hea files: {len(filtered_df)}\")\n",
    "\n",
    "# 결과를 CSV 파일로 저장\n",
    "filtered_df.to_csv('/path/to/your/filtered_labels.csv', index=False)\n"
   ]
  },
  {
   "cell_type": "code",
   "execution_count": 19,
   "id": "343db936-512a-4b6d-8f17-d9673049d9e0",
   "metadata": {
    "scrolled": true
   },
   "outputs": [
    {
     "name": "stdout",
     "output_type": "stream",
     "text": [
      "PID: 10466822, Count: 1\n",
      "PID: 21523867, Count: 1\n",
      "PID: 22525792, Count: 1\n",
      "PID: 10284839, Count: 1\n",
      "PID: 18719637, Count: 1\n",
      "PID: 15949638, Count: 1\n",
      "PID: 24144836, Count: 1\n",
      "PID: 10481623, Count: 1\n",
      "PID: 21137527, Count: 1\n",
      "PID: 50211518, Count: 1\n",
      "PID: 70819555, Count: 1\n",
      "PID: 10468190, Count: 1\n",
      "PID: 13853141, Count: 1\n",
      "PID: 18563583, Count: 1\n",
      "PID: 15310354, Count: 1\n",
      "PID: 10469556, Count: 1\n",
      "PID: 10499256, Count: 1\n",
      "PID: 10490199, Count: 1\n",
      "PID: 50008804, Count: 1\n",
      "PID: 14725537, Count: 1\n",
      "PID: 15637276, Count: 1\n",
      "PID: 19735864, Count: 1\n",
      "PID: 10753731, Count: 1\n",
      "PID: 24403918, Count: 1\n",
      "PID: 19521165, Count: 1\n",
      "PID: 14978182, Count: 1\n",
      "PID: 71593792, Count: 1\n",
      "PID: 10520139, Count: 1\n",
      "PID: 22027233, Count: 1\n",
      "PID: 10520772, Count: 1\n",
      "PID: 21695134, Count: 1\n",
      "PID: 18600623, Count: 1\n",
      "PID: 70112085, Count: 1\n",
      "PID: 10462270, Count: 1\n",
      "PID: 14273728, Count: 1\n",
      "PID: 10548991, Count: 1\n",
      "PID: 22796049, Count: 1\n",
      "PID: 16660744, Count: 1\n",
      "PID: 24068033, Count: 1\n",
      "PID: 18023947, Count: 1\n",
      "PID: 19233611, Count: 1\n",
      "PID: 22365683, Count: 1\n",
      "PID: 13678855, Count: 1\n",
      "PID: 70418036, Count: 1\n",
      "PID: 10456178, Count: 1\n",
      "PID: 10477312, Count: 1\n",
      "PID: 70116799, Count: 1\n",
      "PID: 23876726, Count: 1\n",
      "PID: 60441845, Count: 1\n",
      "PID: 13999695, Count: 1\n",
      "PID: 70479289, Count: 1\n",
      "PID: 12532025, Count: 1\n",
      "PID: 24197933, Count: 1\n",
      "PID: 17976473, Count: 1\n",
      "PID: 16695622, Count: 1\n",
      "PID: 13989383, Count: 1\n",
      "PID: 24227678, Count: 1\n",
      "PID: 10442719, Count: 1\n",
      "PID: 10263895, Count: 1\n",
      "PID: 22359098, Count: 1\n",
      "PID: 20750182, Count: 1\n",
      "PID: 11093519, Count: 1\n",
      "PID: 18656257, Count: 1\n",
      "PID: 22018916, Count: 1\n",
      "PID: 23745234, Count: 1\n",
      "PID: 15867462, Count: 1\n",
      "PID: 18520064, Count: 1\n",
      "PID: 14612016, Count: 1\n",
      "PID: 20871935, Count: 1\n",
      "PID: 24428629, Count: 1\n",
      "PID: 22295076, Count: 1\n",
      "PID: 20114936, Count: 1\n",
      "PID: 22067684, Count: 1\n",
      "PID: 17818922, Count: 1\n",
      "PID: 17756509, Count: 1\n",
      "PID: 10531836, Count: 1\n",
      "PID: 15399664, Count: 1\n",
      "PID: 14057236, Count: 1\n",
      "PID: 23948688, Count: 1\n",
      "PID: 10487096, Count: 1\n",
      "PID: 70619036, Count: 1\n",
      "PID: 24293311, Count: 1\n",
      "PID: 16990703, Count: 1\n",
      "PID: 17273531, Count: 1\n",
      "PID: 50094554, Count: 1\n",
      "PID: 70021393, Count: 1\n",
      "PID: 22202788, Count: 1\n",
      "PID: 12156507, Count: 1\n",
      "PID: 22700651, Count: 1\n",
      "PID: 24205119, Count: 1\n",
      "PID: 23485385, Count: 1\n",
      "PID: 23136802, Count: 1\n",
      "PID: 23648069, Count: 1\n",
      "PID: 18882406, Count: 1\n",
      "PID: 10483377, Count: 1\n",
      "PID: 21803846, Count: 1\n",
      "PID: 50292382, Count: 1\n",
      "PID: 10497229, Count: 1\n",
      "PID: 13297171, Count: 1\n",
      "PID: 22671723, Count: 1\n",
      "PID: 14452425, Count: 1\n",
      "PID: 11150601, Count: 1\n",
      "PID: 21192807, Count: 1\n",
      "PID: 22776549, Count: 1\n",
      "PID: 16688875, Count: 1\n"
     ]
    }
   ],
   "source": [
    "import pandas as pd\n",
    "import os\n",
    "\n",
    "# CSV 파일 경로\n",
    "labels_csv_path = '/home/ubuntu/hw/심계항진_날짜포함.csv'\n",
    "# 데이터 디렉토리 경로\n",
    "data_dir = '/data/mkdata/mk_1_to_12lead_ex/'  # .npy 파일이 위치한 디렉토리 경로를 설정하세요.\n",
    "\n",
    "# CSV 파일에서 PID 컬럼 읽기\n",
    "df = pd.read_csv(labels_csv_path)\n",
    "# 'PID'라는 컬럼명 가정, 실제 컬럼명에 따라 수정 필요\n",
    "pids_from_csv = df['PID'].astype(str).values\n",
    "\n",
    "# 파일 이름에서 PID 추출하고 카운트\n",
    "pid_counts = {}\n",
    "for filename in os.listdir(data_dir):\n",
    "    if filename.endswith('.npy'):\n",
    "        # 파일 이름에서 PID 추출 (확장자 '.npy' 제외)\n",
    "        pid = filename.split('.')[0]\n",
    "        if pid in pids_from_csv:\n",
    "            pid_counts[pid] = pid_counts.get(pid, 0) + 1\n",
    "\n",
    "# 결과 출력\n",
    "for pid, count in pid_counts.items():\n",
    "    print(f\"PID: {pid}, Count: {count}\")\n"
   ]
  },
  {
   "cell_type": "code",
   "execution_count": 87,
   "id": "c337838d-ddcb-42a4-a572-f32b8380e8e9",
   "metadata": {},
   "outputs": [],
   "source": [
    "data=np.load('/data/12lead_mobile_match/20822714_2022-03-29.npy')"
   ]
  },
  {
   "cell_type": "code",
   "execution_count": 89,
   "id": "9976b976-ab6a-4a32-9ffa-f94e2b330046",
   "metadata": {},
   "outputs": [
    {
     "data": {
      "text/plain": [
       "(12, 5000)"
      ]
     },
     "execution_count": 89,
     "metadata": {},
     "output_type": "execute_result"
    }
   ],
   "source": [
    "data.shape"
   ]
  },
  {
   "cell_type": "code",
   "execution_count": 91,
   "id": "8ba043eb-fdc6-49c4-bf86-1c558df36eee",
   "metadata": {},
   "outputs": [],
   "source": [
    "data2=np.load('/data/mobile_ecg/16177604.npy')"
   ]
  },
  {
   "cell_type": "code",
   "execution_count": 92,
   "id": "c9c898c9-c6bf-45ea-85a2-c1c8eb5d8100",
   "metadata": {},
   "outputs": [
    {
     "data": {
      "text/plain": [
       "(1, 15871)"
      ]
     },
     "execution_count": 92,
     "metadata": {},
     "output_type": "execute_result"
    }
   ],
   "source": [
    "data2.shape"
   ]
  },
  {
   "cell_type": "code",
   "execution_count": 98,
   "id": "d7fa01ed-111a-4a0b-98dc-09aa7ba85076",
   "metadata": {},
   "outputs": [],
   "source": [
    "data=pd.read_csv('/data/hw/12Lead+Mobile_ECG/orig_20230816/label/Total_Mobile_label.csv')"
   ]
  },
  {
   "cell_type": "code",
   "execution_count": 99,
   "id": "53c05a38-c02b-4372-98df-18de31578509",
   "metadata": {},
   "outputs": [
    {
     "data": {
      "text/html": [
       "<div>\n",
       "<style scoped>\n",
       "    .dataframe tbody tr th:only-of-type {\n",
       "        vertical-align: middle;\n",
       "    }\n",
       "\n",
       "    .dataframe tbody tr th {\n",
       "        vertical-align: top;\n",
       "    }\n",
       "\n",
       "    .dataframe thead th {\n",
       "        text-align: right;\n",
       "    }\n",
       "</style>\n",
       "<table border=\"1\" class=\"dataframe\">\n",
       "  <thead>\n",
       "    <tr style=\"text-align: right;\">\n",
       "      <th></th>\n",
       "      <th>환자이름</th>\n",
       "      <th>AFPH</th>\n",
       "      <th>생년월일</th>\n",
       "      <th>PID</th>\n",
       "      <th>AF</th>\n",
       "      <th>NSR</th>\n",
       "    </tr>\n",
       "  </thead>\n",
       "  <tbody>\n",
       "    <tr>\n",
       "      <th>0</th>\n",
       "      <td>강양순</td>\n",
       "      <td>1.0</td>\n",
       "      <td>1948.01.20</td>\n",
       "      <td>00028467</td>\n",
       "      <td>0.0</td>\n",
       "      <td>1.0</td>\n",
       "    </tr>\n",
       "    <tr>\n",
       "      <th>1</th>\n",
       "      <td>김윤남</td>\n",
       "      <td>0.0</td>\n",
       "      <td>1949.07.27</td>\n",
       "      <td>00033216</td>\n",
       "      <td>0.0</td>\n",
       "      <td>1.0</td>\n",
       "    </tr>\n",
       "    <tr>\n",
       "      <th>2</th>\n",
       "      <td>진명희</td>\n",
       "      <td>0.0</td>\n",
       "      <td>1945.01.05</td>\n",
       "      <td>00181202</td>\n",
       "      <td>0.0</td>\n",
       "      <td>1.0</td>\n",
       "    </tr>\n",
       "    <tr>\n",
       "      <th>3</th>\n",
       "      <td>강석부</td>\n",
       "      <td>1.0</td>\n",
       "      <td>1944.10.18</td>\n",
       "      <td>00310421</td>\n",
       "      <td>0.0</td>\n",
       "      <td>1.0</td>\n",
       "    </tr>\n",
       "    <tr>\n",
       "      <th>4</th>\n",
       "      <td>남우현</td>\n",
       "      <td>0.0</td>\n",
       "      <td>1949.10.13</td>\n",
       "      <td>00430058</td>\n",
       "      <td>0.0</td>\n",
       "      <td>1.0</td>\n",
       "    </tr>\n",
       "  </tbody>\n",
       "</table>\n",
       "</div>"
      ],
      "text/plain": [
       "  환자이름  AFPH        생년월일       PID   AF  NSR\n",
       "0  강양순   1.0  1948.01.20  00028467  0.0  1.0\n",
       "1  김윤남   0.0  1949.07.27  00033216  0.0  1.0\n",
       "2  진명희   0.0  1945.01.05  00181202  0.0  1.0\n",
       "3  강석부   1.0  1944.10.18  00310421  0.0  1.0\n",
       "4  남우현   0.0  1949.10.13  00430058  0.0  1.0"
      ]
     },
     "execution_count": 99,
     "metadata": {},
     "output_type": "execute_result"
    }
   ],
   "source": [
    "data.head()"
   ]
  },
  {
   "cell_type": "code",
   "execution_count": 43,
   "id": "aa706588-1819-46d0-b982-e15519ab136b",
   "metadata": {},
   "outputs": [],
   "source": [
    "import pandas as pd"
   ]
  },
  {
   "cell_type": "code",
   "execution_count": 44,
   "id": "79c75344-c923-4e29-9347-469d31bb0fe8",
   "metadata": {},
   "outputs": [],
   "source": [
    "import numpy as np"
   ]
  },
  {
   "cell_type": "code",
   "execution_count": 46,
   "id": "1ed9e786-150f-4244-af97-4d2898528019",
   "metadata": {},
   "outputs": [],
   "source": [
    "data=np.load('/data/hw/mobile_ecg_rawdata/Jenonnam_Result_ECG2CSV_mobi_care/mobi_data/16579541.npy')"
   ]
  },
  {
   "cell_type": "code",
   "execution_count": 47,
   "id": "5244d049-2a89-4642-8791-2f97f56a5d1f",
   "metadata": {},
   "outputs": [
    {
     "data": {
      "text/plain": [
       "(1, 16127)"
      ]
     },
     "execution_count": 47,
     "metadata": {},
     "output_type": "execute_result"
    }
   ],
   "source": [
    "data.shape"
   ]
  },
  {
   "cell_type": "code",
   "execution_count": 49,
   "id": "5d8e4203-4191-4ade-99e0-b86b30fb58ef",
   "metadata": {},
   "outputs": [],
   "source": [
    "data=np.load('/data/hw/external_data/10531836.npy')"
   ]
  },
  {
   "cell_type": "code",
   "execution_count": 50,
   "id": "3c83455f-e810-4a53-87c6-8f3c7f3a1621",
   "metadata": {},
   "outputs": [
    {
     "data": {
      "text/plain": [
       "(66374016, 2)"
      ]
     },
     "execution_count": 50,
     "metadata": {},
     "output_type": "execute_result"
    }
   ],
   "source": [
    "data.shape"
   ]
  },
  {
   "cell_type": "code",
   "execution_count": null,
   "id": "6b235f84-789d-4731-84b6-9b680009ca26",
   "metadata": {},
   "outputs": [],
   "source": []
  }
 ],
 "metadata": {
  "kernelspec": {
   "display_name": "pt20_py310",
   "language": "python",
   "name": "pt20_py310"
  },
  "language_info": {
   "codemirror_mode": {
    "name": "ipython",
    "version": 3
   },
   "file_extension": ".py",
   "mimetype": "text/x-python",
   "name": "python",
   "nbconvert_exporter": "python",
   "pygments_lexer": "ipython3",
   "version": "3.10.13"
  }
 },
 "nbformat": 4,
 "nbformat_minor": 5
}
